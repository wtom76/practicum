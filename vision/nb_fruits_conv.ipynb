{
 "cells": [
  {
   "cell_type": "code",
   "execution_count": 1,
   "id": "1922d27b",
   "metadata": {},
   "outputs": [
    {
     "name": "stderr",
     "output_type": "stream",
     "text": [
      "2025-09-16 05:49:30.364016: I external/local_xla/xla/tsl/cuda/cudart_stub.cc:31] Could not find cuda drivers on your machine, GPU will not be used.\n",
      "2025-09-16 05:49:30.421425: I tensorflow/core/platform/cpu_feature_guard.cc:210] This TensorFlow binary is optimized to use available CPU instructions in performance-critical operations.\n",
      "To enable the following instructions: AVX2 FMA, in other operations, rebuild TensorFlow with the appropriate compiler flags.\n",
      "2025-09-16 05:49:31.767211: I external/local_xla/xla/tsl/cuda/cudart_stub.cc:31] Could not find cuda drivers on your machine, GPU will not be used.\n"
     ]
    }
   ],
   "source": [
    "from tensorflow import keras\n",
    "import numpy as np\n",
    "\n",
    "RND_SEED = 12345\n",
    "\n",
    "def train_generator():\n",
    "    return keras.preprocessing.image.ImageDataGenerator(\n",
    "        validation_split=0.25,\n",
    "        rescale=1./255.,\n",
    "#        vertical_flip=True,\n",
    "#        width_shift_range=0.2,\n",
    "#        height_shift_range=0.2,\n",
    "#\t\trotation_range=90,\n",
    "    )\n",
    "\n",
    "def load_train(path):\n",
    "    return train_generator().flow_from_directory(\n",
    "        path,\n",
    "        target_size=(150, 150),\n",
    "        batch_size=16,\n",
    "        class_mode='sparse',\n",
    "        subset='training',\n",
    "        seed=RND_SEED)\n",
    "\n",
    "def create_model(input_shape):\n",
    "    model = keras.models.Sequential()\n",
    "#    model.add(keras.layers.Input(input_shape))\n",
    "    model.add(keras.layers.Conv2D(filters=6, kernel_size=(5, 5), padding='same', activation='tanh', input_shape=input_shape))\n",
    "    model.add(keras.layers.AvgPool2D(pool_size=(2, 2)))\n",
    "    model.add(keras.layers.Conv2D(filters=16, kernel_size=(5, 5), padding='valid', activation='tanh')) #, input_shape=(14, 14, 6)\n",
    "    model.add(keras.layers.AvgPool2D(pool_size=(2, 2)))\n",
    "    model.add(keras.layers.Flatten())\n",
    "    model.add(keras.layers.Dense(units=120, activation='tanh'))\n",
    "    model.add(keras.layers.Dense(units=84, activation='tanh'))\n",
    "    model.add(keras.layers.Dense(units=12, activation='softmax'))\n",
    "    model.compile(optimizer=keras.optimizers.Adam(learning_rate=0.001),\n",
    "        loss='sparse_categorical_crossentropy', metrics=['acc'])\n",
    "    return model\n",
    "\n",
    "def train_model(model, train_data, test_data, batch_size=None, epochs=5,\n",
    "               steps_per_epoch=None, validation_steps=None):\n",
    "    model.fit(train_data, \n",
    "              validation_data=test_data,\n",
    "              batch_size=batch_size, epochs=epochs,\n",
    "              steps_per_epoch=steps_per_epoch,\n",
    "              validation_steps=validation_steps,\n",
    "              verbose=2, shuffle=True)\n",
    "    return model"
   ]
  },
  {
   "cell_type": "code",
   "execution_count": 2,
   "id": "630e6394",
   "metadata": {},
   "outputs": [
    {
     "name": "stdout",
     "output_type": "stream",
     "text": [
      "Found 1266 images belonging to 12 classes.\n",
      "Found 417 images belonging to 12 classes.\n"
     ]
    }
   ],
   "source": [
    "image_gen = train_generator()\n",
    "train_datagen_flow = image_gen.flow_from_directory(\n",
    "\t\t\t'./datasets/fruits_small/',\n",
    "\t\t\ttarget_size=(150, 150),\n",
    "\t\t\tbatch_size=16,\n",
    "\t\t\tclass_mode='sparse',\n",
    "\t\t\tsubset='training',\n",
    "\t\t\tseed=RND_SEED)\n",
    "val_datagen_flow = image_gen.flow_from_directory(\n",
    "\t\t\t'./datasets/fruits_small/',\n",
    "\t\t\ttarget_size=(150, 150),\n",
    "\t\t\tbatch_size=16,\n",
    "\t\t\tclass_mode='sparse',\n",
    "\t\t\tsubset='validation',\n",
    "\t\t\tseed=RND_SEED)"
   ]
  },
  {
   "cell_type": "code",
   "execution_count": 3,
   "id": "231c1c61",
   "metadata": {},
   "outputs": [
    {
     "data": {
      "text/plain": [
       "80"
      ]
     },
     "execution_count": 3,
     "metadata": {},
     "output_type": "execute_result"
    }
   ],
   "source": [
    "features, target = next(train_datagen_flow)\n",
    "len(train_datagen_flow)"
   ]
  },
  {
   "cell_type": "code",
   "execution_count": 4,
   "id": "7aa08b21",
   "metadata": {},
   "outputs": [
    {
     "name": "stdout",
     "output_type": "stream",
     "text": [
      "Epoch 1/5\n"
     ]
    },
    {
     "name": "stderr",
     "output_type": "stream",
     "text": [
      "/home/wtom/code/notebooks/practicum/vision/.venv/lib/python3.12/site-packages/keras/src/layers/convolutional/base_conv.py:113: UserWarning: Do not pass an `input_shape`/`input_dim` argument to a layer. When using Sequential models, prefer using an `Input(shape)` object as the first layer in the model instead.\n",
      "  super().__init__(activity_regularizer=activity_regularizer, **kwargs)\n",
      "2025-09-16 05:49:32.487625: E external/local_xla/xla/stream_executor/cuda/cuda_platform.cc:51] failed call to cuInit: INTERNAL: CUDA error: Failed call to cuInit: UNKNOWN ERROR (303)\n",
      "/home/wtom/code/notebooks/practicum/vision/.venv/lib/python3.12/site-packages/keras/src/trainers/data_adapters/py_dataset_adapter.py:121: UserWarning: Your `PyDataset` class should call `super().__init__(**kwargs)` in its constructor. `**kwargs` can include `workers`, `use_multiprocessing`, `max_queue_size`. Do not pass these arguments to `fit()`, as they will be ignored.\n",
      "  self._warn_if_super_not_called()\n"
     ]
    },
    {
     "name": "stdout",
     "output_type": "stream",
     "text": [
      "80/80 - 11s - 134ms/step - acc: 0.1675 - loss: 2.4594 - val_acc: 0.0264 - val_loss: 2.6372\n",
      "Epoch 2/5\n",
      "80/80 - 12s - 146ms/step - acc: 0.2267 - loss: 2.2973 - val_acc: 0.2662 - val_loss: 2.1528\n",
      "Epoch 3/5\n",
      "80/80 - 10s - 128ms/step - acc: 0.3476 - loss: 1.9987 - val_acc: 0.3861 - val_loss: 1.8914\n",
      "Epoch 4/5\n",
      "80/80 - 12s - 151ms/step - acc: 0.6058 - loss: 1.2515 - val_acc: 0.7098 - val_loss: 0.9136\n",
      "Epoch 5/5\n",
      "80/80 - 13s - 168ms/step - acc: 0.7433 - loss: 0.7787 - val_acc: 0.7458 - val_loss: 0.7755\n"
     ]
    }
   ],
   "source": [
    "model = create_model(features[0].shape)\n",
    "model = train_model(model,\n",
    "\ttrain_data=train_datagen_flow,\n",
    "\ttest_data=val_datagen_flow)"
   ]
  }
 ],
 "metadata": {
  "kernelspec": {
   "display_name": ".venv",
   "language": "python",
   "name": "python3"
  },
  "language_info": {
   "codemirror_mode": {
    "name": "ipython",
    "version": 3
   },
   "file_extension": ".py",
   "mimetype": "text/x-python",
   "name": "python",
   "nbconvert_exporter": "python",
   "pygments_lexer": "ipython3",
   "version": "3.12.3"
  }
 },
 "nbformat": 4,
 "nbformat_minor": 5
}
