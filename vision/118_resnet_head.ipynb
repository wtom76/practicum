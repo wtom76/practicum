{
 "cells": [
  {
   "cell_type": "code",
   "execution_count": 1,
   "id": "1922d27b",
   "metadata": {},
   "outputs": [
    {
     "name": "stderr",
     "output_type": "stream",
     "text": [
      "2025-09-19 15:05:17.283784: I external/local_xla/xla/tsl/cuda/cudart_stub.cc:31] Could not find cuda drivers on your machine, GPU will not be used.\n",
      "2025-09-19 15:05:17.336867: I tensorflow/core/platform/cpu_feature_guard.cc:210] This TensorFlow binary is optimized to use available CPU instructions in performance-critical operations.\n",
      "To enable the following instructions: AVX2 FMA, in other operations, rebuild TensorFlow with the appropriate compiler flags.\n",
      "2025-09-19 15:05:18.563419: I external/local_xla/xla/tsl/cuda/cudart_stub.cc:31] Could not find cuda drivers on your machine, GPU will not be used.\n"
     ]
    }
   ],
   "source": [
    "from tensorflow import keras\n",
    "import numpy as np\n",
    "\n",
    "RND_SEED = 12345\n",
    "\n",
    "def train_generator():\n",
    "    return keras.preprocessing.image.ImageDataGenerator(\n",
    "        validation_split=0.25,\n",
    "        rescale=1./255.,\n",
    "        horizontal_flip=True,\n",
    "        vertical_flip=True,\n",
    "        width_shift_range=0.2,\n",
    "        height_shift_range=0.2,\n",
    "#        rotation_range=90,\n",
    "    )\n",
    "\n",
    "def load_train(path):\n",
    "    return train_generator().flow_from_directory(\n",
    "        path,\n",
    "        target_size=(150, 150),\n",
    "        batch_size=16,\n",
    "        class_mode='sparse',\n",
    "        subset='training',\n",
    "        seed=RND_SEED)\n",
    "\n",
    "def create_model(input_shape, weights=None):\n",
    "    backbone = keras.applications.resnet.ResNet50(\n",
    "        input_shape=input_shape,\n",
    "        classes=12,\n",
    "        include_top=False,\n",
    "        weights='/datasets/keras_models/resnet50_weights_tf_dim_ordering_tf_kernels_notop.h5' if not weights else weights\n",
    "    )\n",
    "    backbone.trainable = True\n",
    "    model = keras.models.Sequential()\n",
    "    model.add(backbone)\n",
    "    model.add(keras.layers.GlobalAveragePooling2D())\n",
    "    model.add(keras.layers.Dense(512, activation='relu'))\n",
    "    model.add(keras.layers.Dense(256, activation='relu'))\n",
    "    model.add(keras.layers.Dense(12, activation='softmax'))\n",
    "    model.compile(optimizer=keras.optimizers.Adam(learning_rate=0.0001),\n",
    "        loss='sparse_categorical_crossentropy', metrics=['acc'])\n",
    "    return model\n",
    "\n",
    "def train_model(model, train_data, test_data, batch_size=None, epochs=15,\n",
    "               steps_per_epoch=None, validation_steps=None):\n",
    "    model.fit(train_data, \n",
    "              validation_data=test_data,\n",
    "              batch_size=batch_size, epochs=epochs,\n",
    "              steps_per_epoch=steps_per_epoch,\n",
    "              validation_steps=validation_steps,\n",
    "              verbose=2, shuffle=True)\n",
    "    return model"
   ]
  },
  {
   "cell_type": "code",
   "execution_count": 2,
   "id": "630e6394",
   "metadata": {},
   "outputs": [
    {
     "name": "stdout",
     "output_type": "stream",
     "text": [
      "Found 1266 images belonging to 12 classes.\n",
      "Found 417 images belonging to 12 classes.\n"
     ]
    }
   ],
   "source": [
    "image_gen = train_generator()\n",
    "train_datagen_flow = image_gen.flow_from_directory(\n",
    "\t\t\t'./datasets/fruits_small/',\n",
    "\t\t\ttarget_size=(150, 150),\n",
    "\t\t\tbatch_size=16,\n",
    "\t\t\tclass_mode='sparse',\n",
    "\t\t\tsubset='training',\n",
    "\t\t\tseed=RND_SEED)\n",
    "val_datagen_flow = image_gen.flow_from_directory(\n",
    "\t\t\t'./datasets/fruits_small/',\n",
    "\t\t\ttarget_size=(150, 150),\n",
    "\t\t\tbatch_size=16,\n",
    "\t\t\tclass_mode='sparse',\n",
    "\t\t\tsubset='validation',\n",
    "\t\t\tseed=RND_SEED)"
   ]
  },
  {
   "cell_type": "code",
   "execution_count": 3,
   "id": "231c1c61",
   "metadata": {},
   "outputs": [
    {
     "data": {
      "text/plain": [
       "80"
      ]
     },
     "execution_count": 3,
     "metadata": {},
     "output_type": "execute_result"
    }
   ],
   "source": [
    "features, target = next(train_datagen_flow)\n",
    "len(train_datagen_flow)"
   ]
  },
  {
   "cell_type": "code",
   "execution_count": 4,
   "id": "7aa08b21",
   "metadata": {},
   "outputs": [
    {
     "name": "stdout",
     "output_type": "stream",
     "text": [
      "input shape: (150, 150, 3)\n"
     ]
    },
    {
     "name": "stderr",
     "output_type": "stream",
     "text": [
      "2025-09-19 15:05:19.302423: E external/local_xla/xla/stream_executor/cuda/cuda_platform.cc:51] failed call to cuInit: INTERNAL: CUDA error: Failed call to cuInit: UNKNOWN ERROR (303)\n"
     ]
    },
    {
     "name": "stdout",
     "output_type": "stream",
     "text": [
      "Epoch 1/15\n"
     ]
    },
    {
     "name": "stderr",
     "output_type": "stream",
     "text": [
      "/home/wtom/code/notebooks/practicum/vision/.venv/lib/python3.12/site-packages/keras/src/trainers/data_adapters/py_dataset_adapter.py:121: UserWarning: Your `PyDataset` class should call `super().__init__(**kwargs)` in its constructor. `**kwargs` can include `workers`, `use_multiprocessing`, `max_queue_size`. Do not pass these arguments to `fit()`, as they will be ignored.\n",
      "  self._warn_if_super_not_called()\n"
     ]
    },
    {
     "name": "stdout",
     "output_type": "stream",
     "text": [
      "80/80 - 190s - 2s/step - acc: 0.8017 - loss: 0.6769 - val_acc: 0.1295 - val_loss: 3.6460\n",
      "Epoch 2/15\n",
      "80/80 - 164s - 2s/step - acc: 0.9787 - loss: 0.0832 - val_acc: 0.1199 - val_loss: 5.6940\n",
      "Epoch 3/15\n",
      "80/80 - 164s - 2s/step - acc: 0.9739 - loss: 0.0838 - val_acc: 0.1199 - val_loss: 9.5076\n",
      "Epoch 4/15\n",
      "80/80 - 164s - 2s/step - acc: 0.9708 - loss: 0.0959 - val_acc: 0.0743 - val_loss: 5.3238\n",
      "Epoch 5/15\n",
      "80/80 - 165s - 2s/step - acc: 0.9858 - loss: 0.0583 - val_acc: 0.0695 - val_loss: 11.8919\n",
      "Epoch 6/15\n",
      "80/80 - 165s - 2s/step - acc: 0.9834 - loss: 0.0696 - val_acc: 0.1247 - val_loss: 3.8917\n",
      "Epoch 7/15\n",
      "80/80 - 165s - 2s/step - acc: 0.9779 - loss: 0.1025 - val_acc: 0.1031 - val_loss: 6.1381\n",
      "Epoch 8/15\n",
      "80/80 - 164s - 2s/step - acc: 0.9866 - loss: 0.0392 - val_acc: 0.2158 - val_loss: 2.9526\n",
      "Epoch 9/15\n",
      "80/80 - 166s - 2s/step - acc: 0.9803 - loss: 0.0682 - val_acc: 0.1631 - val_loss: 6.7161\n",
      "Epoch 10/15\n",
      "80/80 - 164s - 2s/step - acc: 0.9921 - loss: 0.0250 - val_acc: 0.4125 - val_loss: 2.6158\n",
      "Epoch 11/15\n",
      "80/80 - 164s - 2s/step - acc: 0.9976 - loss: 0.0135 - val_acc: 0.8585 - val_loss: 0.4532\n",
      "Epoch 12/15\n",
      "80/80 - 164s - 2s/step - acc: 0.9826 - loss: 0.0434 - val_acc: 0.8945 - val_loss: 0.4070\n",
      "Epoch 13/15\n",
      "80/80 - 164s - 2s/step - acc: 0.9929 - loss: 0.0296 - val_acc: 0.9472 - val_loss: 0.2160\n",
      "Epoch 14/15\n",
      "80/80 - 164s - 2s/step - acc: 0.9913 - loss: 0.0347 - val_acc: 0.9784 - val_loss: 0.0466\n",
      "Epoch 15/15\n",
      "80/80 - 165s - 2s/step - acc: 0.9874 - loss: 0.0397 - val_acc: 0.9856 - val_loss: 0.0597\n"
     ]
    }
   ],
   "source": [
    "print('input shape:', features[0].shape)\n",
    "model = create_model(features[0].shape, './datasets/keras_models/resnet50_weights_tf_dim_ordering_tf_kernels_notop.h5')\n",
    "model = train_model(model,\n",
    "\ttrain_data=train_datagen_flow,\n",
    "\ttest_data=val_datagen_flow)"
   ]
  }
 ],
 "metadata": {
  "kernelspec": {
   "display_name": ".venv",
   "language": "python",
   "name": "python3"
  },
  "language_info": {
   "codemirror_mode": {
    "name": "ipython",
    "version": 3
   },
   "file_extension": ".py",
   "mimetype": "text/x-python",
   "name": "python",
   "nbconvert_exporter": "python",
   "pygments_lexer": "ipython3",
   "version": "3.12.3"
  }
 },
 "nbformat": 4,
 "nbformat_minor": 5
}
