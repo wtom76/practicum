{
 "cells": [
  {
   "cell_type": "code",
   "execution_count": 55,
   "id": "1922d27b",
   "metadata": {},
   "outputs": [],
   "source": [
    "from tensorflow import keras\n",
    "import numpy as np\n",
    "\n",
    "def load_train(path):\n",
    "    features_train = np.load(path + 'train_features.npy')\n",
    "    target_train = np.load(path + 'train_target.npy')\n",
    "    features_train = features_train.reshape(features_train.shape[0], 28 * 28) / 255\n",
    "    return features_train, target_train\n",
    "\n",
    "# Чтобы указать размер данных в первом слое, примените параметр input_shape - keras на параметр input_shape в Dense пишет, что так не надо делать, надо использовать Input\n",
    "def create_model(input_shape):\n",
    "    model = keras.models.Sequential()\n",
    "    model.add(keras.layers.Input(input_shape))\n",
    "    model.add(keras.layers.Dense(28 * 28, activation=keras.activations.relu))\n",
    "    model.add(keras.layers.Dropout(0.1))\n",
    "    model.add(keras.layers.Dense(28 * 5, activation=keras.activations.relu))\n",
    "    model.add(keras.layers.Dropout(0.1))\n",
    "    model.add(keras.layers.Dense(10, activation=keras.activations.softmax))\n",
    "    model.compile(optimizer='sgd', loss='sparse_categorical_crossentropy', metrics=['acc'])\n",
    "    return model\n",
    "\n",
    "def train_model(model, train_data, test_data, batch_size=32, epochs=5,\n",
    "               steps_per_epoch=None, validation_steps=None):\n",
    "    features_train, target_train = train_data\n",
    "    features_test, target_test = test_data\n",
    "    model.fit(features_train, target_train, \n",
    "              validation_data=(features_test, target_test),\n",
    "              batch_size=batch_size, epochs=epochs,\n",
    "              steps_per_epoch=steps_per_epoch,\n",
    "              validation_steps=validation_steps,\n",
    "              verbose=2, shuffle=True)\n",
    "    return model"
   ]
  },
  {
   "cell_type": "code",
   "execution_count": 56,
   "id": "630e6394",
   "metadata": {},
   "outputs": [],
   "source": [
    "def load_local(path, prefix='train'):\n",
    "    features = np.load(path + prefix + '_features.npy')\n",
    "    target = np.load(path + prefix + '_target.npy')\n",
    "    features = features.reshape(features.shape[0], 28 * 28) / 255\n",
    "    return features, target"
   ]
  },
  {
   "cell_type": "code",
   "execution_count": 57,
   "id": "ffc5bfa1",
   "metadata": {},
   "outputs": [],
   "source": [
    "path_local = './datasets/fashion_mnist/'\n",
    "features_train, target_train = load_local(path_local, 'train')\n",
    "features_test, target_test = load_local(path_local, 'test')"
   ]
  },
  {
   "cell_type": "code",
   "execution_count": 58,
   "id": "7aa08b21",
   "metadata": {},
   "outputs": [
    {
     "name": "stdout",
     "output_type": "stream",
     "text": [
      "Epoch 1/5\n",
      "1875/1875 - 9s - 5ms/step - acc: 0.7609 - loss: 0.7155 - val_acc: 0.8165 - val_loss: 0.5289\n",
      "Epoch 2/5\n",
      "1875/1875 - 8s - 4ms/step - acc: 0.8290 - loss: 0.4948 - val_acc: 0.8287 - val_loss: 0.4744\n",
      "Epoch 3/5\n",
      "1875/1875 - 8s - 4ms/step - acc: 0.8449 - loss: 0.4441 - val_acc: 0.8434 - val_loss: 0.4341\n",
      "Epoch 4/5\n",
      "1875/1875 - 8s - 4ms/step - acc: 0.8546 - loss: 0.4148 - val_acc: 0.8537 - val_loss: 0.4110\n",
      "Epoch 5/5\n",
      "1875/1875 - 8s - 4ms/step - acc: 0.8611 - loss: 0.3924 - val_acc: 0.8559 - val_loss: 0.4035\n"
     ]
    }
   ],
   "source": [
    "model = create_model((features_train.shape[1],))\n",
    "model = train_model(model,\n",
    "\ttrain_data=(features_train, target_train),\n",
    "\ttest_data=(features_test, target_test))"
   ]
  }
 ],
 "metadata": {
  "kernelspec": {
   "display_name": ".venv",
   "language": "python",
   "name": "python3"
  },
  "language_info": {
   "codemirror_mode": {
    "name": "ipython",
    "version": 3
   },
   "file_extension": ".py",
   "mimetype": "text/x-python",
   "name": "python",
   "nbconvert_exporter": "python",
   "pygments_lexer": "ipython3",
   "version": "3.12.3"
  }
 },
 "nbformat": 4,
 "nbformat_minor": 5
}
