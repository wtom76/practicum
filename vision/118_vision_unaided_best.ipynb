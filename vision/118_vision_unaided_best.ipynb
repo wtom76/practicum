{
 "cells": [
  {
   "cell_type": "code",
   "execution_count": 1,
   "id": "1922d27b",
   "metadata": {},
   "outputs": [
    {
     "name": "stderr",
     "output_type": "stream",
     "text": [
      "2025-09-21 09:15:11.126321: I external/local_xla/xla/tsl/cuda/cudart_stub.cc:31] Could not find cuda drivers on your machine, GPU will not be used.\n",
      "2025-09-21 09:15:11.177283: I tensorflow/core/platform/cpu_feature_guard.cc:210] This TensorFlow binary is optimized to use available CPU instructions in performance-critical operations.\n",
      "To enable the following instructions: AVX2 FMA, in other operations, rebuild TensorFlow with the appropriate compiler flags.\n",
      "2025-09-21 09:15:12.445964: I external/local_xla/xla/tsl/cuda/cudart_stub.cc:31] Could not find cuda drivers on your machine, GPU will not be used.\n"
     ]
    }
   ],
   "source": [
    "from tensorflow import keras\n",
    "import pandas as pd\n",
    "import numpy as np\n",
    "\n",
    "def generator():\n",
    "    return keras.preprocessing.image.ImageDataGenerator(\n",
    "            validation_split=0.25,\n",
    "            rescale=1./255.,\n",
    "#            horizontal_flip=True,\n",
    "#            vertical_flip=True,\n",
    "#            width_shift_range=0.2,\n",
    "#            height_shift_range=0.2,\n",
    "#            rotation_range=5,\n",
    "    )\n",
    "\n",
    "def load_subset(path, subset):\n",
    "    return generator().flow_from_dataframe(\n",
    "        pd.read_csv(path + '/labels.csv'),\n",
    "        directory=path + '/final_files',\n",
    "        x_col='file_name',\n",
    "        y_col='real_age',\n",
    "        target_size=(150, 150),\n",
    "        class_mode='raw',\n",
    "        subset=subset,\n",
    "        batch_size=16,\n",
    "        seed=42\n",
    ")\n",
    "\n",
    "def load_train(path):\n",
    "\treturn load_subset(path, subset='training')\n",
    "\n",
    "def load_test(path):\n",
    "\treturn load_subset(path, subset='validation')\n",
    "\n",
    "def create_model(input_shape, weights='/datasets/keras_models/resnet50_weights_tf_dim_ordering_tf_kernels_notop.h5'):\n",
    "    backbone = keras.applications.resnet.ResNet50(\n",
    "        input_shape=input_shape,\n",
    "        include_top=False,\n",
    "        weights=weights\n",
    "    )\n",
    "    backbone.trainable = True\n",
    "    model = keras.models.Sequential()\n",
    "    model.add(backbone)\n",
    "    model.add(keras.layers.GlobalAveragePooling2D())\n",
    "    model.add(keras.layers.Dense(512, activation='relu'))\n",
    "    model.add(keras.layers.Dense(256, activation='relu'))\n",
    "    model.add(keras.layers.Dense(1, activation='relu'))\n",
    "    model.compile(optimizer=keras.optimizers.Adam(learning_rate=0.0001),\n",
    "        loss='mean_squared_error', metrics=['mae'])\n",
    "    return model\n",
    "\n",
    "def train_model(model, train_data, test_data, batch_size=None, epochs=5, steps_per_epoch=None, validation_steps=None):\n",
    "    model.fit(train_data, \n",
    "              validation_data=test_data,\n",
    "              epochs=epochs,\n",
    "              steps_per_epoch=steps_per_epoch,\n",
    "              validation_steps=validation_steps,\n",
    "              verbose=2, shuffle=True)\n",
    "    return model"
   ]
  },
  {
   "cell_type": "code",
   "execution_count": 2,
   "id": "630e6394",
   "metadata": {},
   "outputs": [
    {
     "name": "stdout",
     "output_type": "stream",
     "text": [
      "Found 5694 validated image filenames.\n",
      "Found 1897 validated image filenames.\n"
     ]
    }
   ],
   "source": [
    "train_flow = load_train('./datasets/faces')\n",
    "test_flow = load_test('./datasets/faces')"
   ]
  },
  {
   "cell_type": "code",
   "execution_count": 3,
   "id": "231c1c61",
   "metadata": {},
   "outputs": [
    {
     "data": {
      "text/plain": [
       "356"
      ]
     },
     "execution_count": 3,
     "metadata": {},
     "output_type": "execute_result"
    }
   ],
   "source": [
    "features, target = next(train_flow)\n",
    "len(train_flow)"
   ]
  },
  {
   "cell_type": "code",
   "execution_count": 4,
   "id": "7aa08b21",
   "metadata": {},
   "outputs": [
    {
     "name": "stdout",
     "output_type": "stream",
     "text": [
      "input shape: (150, 150, 3)\n"
     ]
    },
    {
     "name": "stderr",
     "output_type": "stream",
     "text": [
      "2025-09-21 09:15:13.330553: E external/local_xla/xla/stream_executor/cuda/cuda_platform.cc:51] failed call to cuInit: INTERNAL: CUDA error: Failed call to cuInit: UNKNOWN ERROR (303)\n"
     ]
    },
    {
     "name": "stdout",
     "output_type": "stream",
     "text": [
      "Epoch 1/5\n"
     ]
    },
    {
     "name": "stderr",
     "output_type": "stream",
     "text": [
      "/home/wtom/code/notebooks/practicum/vision/.venv/lib/python3.12/site-packages/keras/src/trainers/data_adapters/py_dataset_adapter.py:121: UserWarning: Your `PyDataset` class should call `super().__init__(**kwargs)` in its constructor. `**kwargs` can include `workers`, `use_multiprocessing`, `max_queue_size`. Do not pass these arguments to `fit()`, as they will be ignored.\n",
      "  self._warn_if_super_not_called()\n"
     ]
    },
    {
     "name": "stdout",
     "output_type": "stream",
     "text": [
      "356/356 - 869s - 2s/step - loss: 214.7767 - mae: 10.8180 - val_loss: 547.0052 - val_mae: 18.3229\n",
      "Epoch 2/5\n",
      "356/356 - 759s - 2s/step - loss: 77.6261 - mae: 6.8130 - val_loss: 156.7555 - val_mae: 9.4804\n",
      "Epoch 3/5\n",
      "356/356 - 750s - 2s/step - loss: 43.9212 - mae: 5.0905 - val_loss: 90.4424 - val_mae: 7.2246\n",
      "Epoch 4/5\n",
      "356/356 - 750s - 2s/step - loss: 31.6730 - mae: 4.2948 - val_loss: 94.0120 - val_mae: 7.5466\n",
      "Epoch 5/5\n",
      "356/356 - 759s - 2s/step - loss: 24.3900 - mae: 3.7827 - val_loss: 82.9802 - val_mae: 6.9554\n"
     ]
    }
   ],
   "source": [
    "print('input shape:', features[0].shape)\n",
    "model = create_model(features[0].shape, './datasets/keras_models/resnet50_weights_tf_dim_ordering_tf_kernels_notop.h5')\n",
    "model = train_model(model,\n",
    "\ttrain_data=train_flow,\n",
    "\ttest_data=test_flow)"
   ]
  }
 ],
 "metadata": {
  "kernelspec": {
   "display_name": ".venv",
   "language": "python",
   "name": "python3"
  },
  "language_info": {
   "codemirror_mode": {
    "name": "ipython",
    "version": 3
   },
   "file_extension": ".py",
   "mimetype": "text/x-python",
   "name": "python",
   "nbconvert_exporter": "python",
   "pygments_lexer": "ipython3",
   "version": "3.12.3"
  }
 },
 "nbformat": 4,
 "nbformat_minor": 5
}
