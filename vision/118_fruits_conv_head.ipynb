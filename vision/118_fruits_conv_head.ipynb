{
 "cells": [
  {
   "cell_type": "code",
   "execution_count": 1,
   "id": "1922d27b",
   "metadata": {},
   "outputs": [
    {
     "name": "stderr",
     "output_type": "stream",
     "text": [
      "2025-09-17 11:21:55.243147: I external/local_xla/xla/tsl/cuda/cudart_stub.cc:31] Could not find cuda drivers on your machine, GPU will not be used.\n",
      "2025-09-17 11:21:55.666078: I tensorflow/core/platform/cpu_feature_guard.cc:210] This TensorFlow binary is optimized to use available CPU instructions in performance-critical operations.\n",
      "To enable the following instructions: AVX2 FMA, in other operations, rebuild TensorFlow with the appropriate compiler flags.\n",
      "2025-09-17 11:21:57.643291: I external/local_xla/xla/tsl/cuda/cudart_stub.cc:31] Could not find cuda drivers on your machine, GPU will not be used.\n"
     ]
    }
   ],
   "source": [
    "from tensorflow import keras\n",
    "import numpy as np\n",
    "\n",
    "RND_SEED = 12345\n",
    "\n",
    "def train_generator():\n",
    "    return keras.preprocessing.image.ImageDataGenerator(\n",
    "        validation_split=0.25,\n",
    "        rescale=1./255.,\n",
    "        horizontal_flip=True,\n",
    "        vertical_flip=True,\n",
    "        width_shift_range=0.2,\n",
    "        height_shift_range=0.2,\n",
    "#        rotation_range=90,\n",
    "    )\n",
    "\n",
    "def load_train(path):\n",
    "    return train_generator().flow_from_directory(\n",
    "        path,\n",
    "        target_size=(150, 150),\n",
    "        batch_size=16,\n",
    "        class_mode='sparse',\n",
    "        subset='training',\n",
    "        seed=RND_SEED)\n",
    "\n",
    "def create_model(input_shape):\n",
    "    model = keras.models.Sequential()\n",
    "    model.add(keras.layers.Input(input_shape))\n",
    "\n",
    "    model.add(keras.layers.Conv2D(filters=32, kernel_size=(3, 3), padding='same', activation='relu')) #, input_shape=input_shape\n",
    "    model.add(keras.layers.AvgPool2D(pool_size=(2, 2)))\n",
    "\n",
    "    model.add(keras.layers.Conv2D(filters=64, kernel_size=(3, 3), padding='valid', activation='relu'))\n",
    "    model.add(keras.layers.AvgPool2D(pool_size=(2, 2)))\n",
    "\n",
    "    model.add(keras.layers.Conv2D(filters=12, kernel_size=(3, 3), padding='valid', activation='relu'))\n",
    "    model.add(keras.layers.AvgPool2D(pool_size=(2, 2)))\n",
    "\n",
    "    model.add(keras.layers.Flatten())\n",
    "    model.add(keras.layers.Dense(units=120, activation='relu'))\n",
    "    model.add(keras.layers.Dense(units=84, activation='relu'))\n",
    "    model.add(keras.layers.Dense(units=12, activation='softmax'))\n",
    "    model.compile(optimizer=keras.optimizers.Adam(learning_rate=0.001),\n",
    "        loss='sparse_categorical_crossentropy', metrics=['acc'])\n",
    "    return model\n",
    "\n",
    "def train_model(model, train_data, test_data, batch_size=None, epochs=5,\n",
    "               steps_per_epoch=None, validation_steps=None):\n",
    "    model.fit(train_data, \n",
    "              validation_data=test_data,\n",
    "              batch_size=batch_size, epochs=epochs,\n",
    "              steps_per_epoch=steps_per_epoch,\n",
    "              validation_steps=validation_steps,\n",
    "              verbose=2, shuffle=True)\n",
    "    return model"
   ]
  },
  {
   "cell_type": "code",
   "execution_count": 2,
   "id": "630e6394",
   "metadata": {},
   "outputs": [
    {
     "name": "stdout",
     "output_type": "stream",
     "text": [
      "Found 1266 images belonging to 12 classes.\n",
      "Found 417 images belonging to 12 classes.\n"
     ]
    }
   ],
   "source": [
    "image_gen = train_generator()\n",
    "train_datagen_flow = image_gen.flow_from_directory(\n",
    "\t\t\t'./datasets/fruits_small/',\n",
    "\t\t\ttarget_size=(150, 150),\n",
    "\t\t\tbatch_size=16,\n",
    "\t\t\tclass_mode='sparse',\n",
    "\t\t\tsubset='training',\n",
    "\t\t\tseed=RND_SEED)\n",
    "val_datagen_flow = image_gen.flow_from_directory(\n",
    "\t\t\t'./datasets/fruits_small/',\n",
    "\t\t\ttarget_size=(150, 150),\n",
    "\t\t\tbatch_size=16,\n",
    "\t\t\tclass_mode='sparse',\n",
    "\t\t\tsubset='validation',\n",
    "\t\t\tseed=RND_SEED)"
   ]
  },
  {
   "cell_type": "code",
   "execution_count": 3,
   "id": "231c1c61",
   "metadata": {},
   "outputs": [
    {
     "data": {
      "text/plain": [
       "80"
      ]
     },
     "execution_count": 3,
     "metadata": {},
     "output_type": "execute_result"
    }
   ],
   "source": [
    "features, target = next(train_datagen_flow)\n",
    "len(train_datagen_flow)"
   ]
  },
  {
   "cell_type": "code",
   "execution_count": 4,
   "id": "7aa08b21",
   "metadata": {},
   "outputs": [
    {
     "name": "stdout",
     "output_type": "stream",
     "text": [
      "input shape: (150, 150, 3)\n"
     ]
    },
    {
     "name": "stderr",
     "output_type": "stream",
     "text": [
      "2025-09-17 11:21:58.838254: E external/local_xla/xla/stream_executor/cuda/cuda_platform.cc:51] failed call to cuInit: INTERNAL: CUDA error: Failed call to cuInit: UNKNOWN ERROR (303)\n",
      "/home/wtom/code/notebooks/practicum/vision/.venv/lib/python3.12/site-packages/keras/src/trainers/data_adapters/py_dataset_adapter.py:121: UserWarning: Your `PyDataset` class should call `super().__init__(**kwargs)` in its constructor. `**kwargs` can include `workers`, `use_multiprocessing`, `max_queue_size`. Do not pass these arguments to `fit()`, as they will be ignored.\n",
      "  self._warn_if_super_not_called()\n"
     ]
    },
    {
     "name": "stdout",
     "output_type": "stream",
     "text": [
      "Epoch 1/5\n",
      "80/80 - 19s - 238ms/step - acc: 0.1983 - loss: 2.2412 - val_acc: 0.2614 - val_loss: 1.9735\n",
      "Epoch 2/5\n",
      "80/80 - 17s - 217ms/step - acc: 0.2543 - loss: 1.8696 - val_acc: 0.3237 - val_loss: 1.8062\n",
      "Epoch 3/5\n",
      "80/80 - 17s - 217ms/step - acc: 0.4250 - loss: 1.5054 - val_acc: 0.5827 - val_loss: 1.1190\n",
      "Epoch 4/5\n",
      "80/80 - 17s - 214ms/step - acc: 0.6161 - loss: 1.0387 - val_acc: 0.6715 - val_loss: 0.7740\n",
      "Epoch 5/5\n",
      "80/80 - 17s - 214ms/step - acc: 0.7014 - loss: 0.8085 - val_acc: 0.7482 - val_loss: 0.6714\n"
     ]
    }
   ],
   "source": [
    "print('input shape:', features[0].shape)\n",
    "model = create_model(features[0].shape)\n",
    "model = train_model(model,\n",
    "\ttrain_data=train_datagen_flow,\n",
    "\ttest_data=val_datagen_flow)"
   ]
  },
  {
   "cell_type": "markdown",
   "id": "2f478e26",
   "metadata": {},
   "source": [
    "val_acc: 0.8273"
   ]
  }
 ],
 "metadata": {
  "kernelspec": {
   "display_name": ".venv",
   "language": "python",
   "name": "python3"
  },
  "language_info": {
   "codemirror_mode": {
    "name": "ipython",
    "version": 3
   },
   "file_extension": ".py",
   "mimetype": "text/x-python",
   "name": "python",
   "nbconvert_exporter": "python",
   "pygments_lexer": "ipython3",
   "version": "3.12.3"
  }
 },
 "nbformat": 4,
 "nbformat_minor": 5
}
