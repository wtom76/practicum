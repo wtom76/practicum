{
 "cells": [
  {
   "cell_type": "code",
   "execution_count": 9,
   "id": "1922d27b",
   "metadata": {},
   "outputs": [],
   "source": [
    "from tensorflow import keras\n",
    "import numpy as np\n",
    "\n",
    "def load_train(path):\n",
    "    features_train = np.load(path + 'train_features.npy')\n",
    "    target_train = np.load(path + 'train_target.npy')\n",
    "    features_train = features_train.reshape(features_train.shape[0], 28, 28, 1) / 255\n",
    "    return features_train, target_train\n",
    "\n",
    "# Чтобы указать размер данных в первом слое, примените параметр input_shape - keras на параметр input_shape в Dense пишет, что так не надо делать, надо использовать Input\n",
    "def create_model(input_shape):\n",
    "    model = keras.models.Sequential()\n",
    "    model.add(keras.layers.Conv2D(filters=6, kernel_size=(5, 5), padding='same',\n",
    "                    activation='tanh', input_shape=(28, 28, 1)))\n",
    "    model.add(keras.layers.AvgPool2D(pool_size=(2, 2)))\n",
    "    model.add(keras.layers.Conv2D(filters=16, kernel_size=(5, 5), padding='valid',\n",
    "                    activation='tanh', input_shape=(14, 14, 6)))\n",
    "    model.add(keras.layers.AvgPool2D(pool_size=(2, 2)))\n",
    "    model.add(keras.layers.Flatten())\n",
    "    model.add(keras.layers.Dense(units=120, activation='tanh'))\n",
    "    model.add(keras.layers.Dense(units=84, activation='tanh'))\n",
    "    model.add(keras.layers.Dense(units=10, activation='softmax'))\n",
    "    model.compile(optimizer=keras.optimizers.Adam(learning_rate=0.001),\n",
    "        loss='sparse_categorical_crossentropy', metrics=['acc'])\n",
    "    return model\n",
    "\n",
    "def train_model(model, train_data, test_data, batch_size=32, epochs=5,\n",
    "               steps_per_epoch=None, validation_steps=None):\n",
    "    features_train, target_train = train_data\n",
    "    features_test, target_test = test_data\n",
    "    model.fit(features_train, target_train, \n",
    "              validation_data=(features_test, target_test),\n",
    "              batch_size=batch_size, epochs=epochs,\n",
    "              steps_per_epoch=steps_per_epoch,\n",
    "              validation_steps=validation_steps,\n",
    "              verbose=2, shuffle=True)\n",
    "    return model"
   ]
  },
  {
   "cell_type": "code",
   "execution_count": 10,
   "id": "630e6394",
   "metadata": {},
   "outputs": [],
   "source": [
    "def load_local(path, prefix='train'):\n",
    "    features = np.load(path + prefix + '_features.npy')\n",
    "    target = np.load(path + prefix + '_target.npy')\n",
    "    features_train = features.reshape(features.shape[0], 28, 28, 1) / 255\n",
    "    return features, target"
   ]
  },
  {
   "cell_type": "code",
   "execution_count": 11,
   "id": "ffc5bfa1",
   "metadata": {},
   "outputs": [],
   "source": [
    "path_local = './datasets/fashion_mnist/'\n",
    "features_train, target_train = load_local(path_local, 'train')\n",
    "features_test, target_test = load_local(path_local, 'test')"
   ]
  },
  {
   "cell_type": "code",
   "execution_count": 12,
   "id": "7aa08b21",
   "metadata": {},
   "outputs": [
    {
     "name": "stdout",
     "output_type": "stream",
     "text": [
      "Epoch 1/5\n",
      "1875/1875 - 15s - 8ms/step - acc: 0.8398 - loss: 0.4401 - val_acc: 0.8605 - val_loss: 0.3752\n",
      "Epoch 2/5\n",
      "1875/1875 - 14s - 7ms/step - acc: 0.8792 - loss: 0.3284 - val_acc: 0.8780 - val_loss: 0.3359\n",
      "Epoch 3/5\n",
      "1875/1875 - 14s - 7ms/step - acc: 0.8901 - loss: 0.2953 - val_acc: 0.8798 - val_loss: 0.3256\n",
      "Epoch 4/5\n",
      "1875/1875 - 14s - 7ms/step - acc: 0.8977 - loss: 0.2758 - val_acc: 0.8844 - val_loss: 0.3130\n",
      "Epoch 5/5\n",
      "1875/1875 - 14s - 8ms/step - acc: 0.9030 - loss: 0.2582 - val_acc: 0.8922 - val_loss: 0.3082\n"
     ]
    }
   ],
   "source": [
    "model = create_model((features_train.shape[1],))\n",
    "model = train_model(model,\n",
    "\ttrain_data=(features_train, target_train),\n",
    "\ttest_data=(features_test, target_test))"
   ]
  }
 ],
 "metadata": {
  "kernelspec": {
   "display_name": ".venv",
   "language": "python",
   "name": "python3"
  },
  "language_info": {
   "codemirror_mode": {
    "name": "ipython",
    "version": 3
   },
   "file_extension": ".py",
   "mimetype": "text/x-python",
   "name": "python",
   "nbconvert_exporter": "python",
   "pygments_lexer": "ipython3",
   "version": "3.12.3"
  }
 },
 "nbformat": 4,
 "nbformat_minor": 5
}
