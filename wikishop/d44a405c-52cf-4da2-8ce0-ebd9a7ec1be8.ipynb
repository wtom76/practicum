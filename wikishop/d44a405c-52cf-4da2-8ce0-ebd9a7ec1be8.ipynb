{
 "cells": [
  {
   "cell_type": "markdown",
   "id": "18c826fe",
   "metadata": {},
   "source": [
    "<div class=\"alert alert-info\">\n",
    "<font size=\"5\"><b>Комментарий ревьюера</b></font>\n",
    "\n",
    "Привет Артём! Меня зовут Марат, и я буду твоим ревьюером. Спешу сообщить что все ключевые этапы в работе выполнены,  с задачей тебе удалось справиться. По поводу обращения - в IT сфере принято общаться на «ты» :) Но, если привычней на «вы», дай знать. Как ревьюера моя задача помочь тебе в развитии, дав хорошие советы. Я внимательно посмотрю твой код, ознакомлюсь с твоими выводами и оставлю комментарии. Где то могу предложить небольшие исправление в коде, но ненавязчиво. Где потребуются уточнения, я оставлю много наводящих вопросов. Они помогут тебя с поиском верного решения.\n",
    "\n",
    "Все мои комментарии размечены по цветам, для лучшего восприятия. \n",
    "    \n",
    "<div class=\"alert alert-success\">Зеленым цветом и словом «Успех» отмечены особо удачные и элегантные решения, которыми ты можешь гордиться. </div>\n",
    "        \n",
    "<div class=\"alert alert-warning\">Желтым и значком словом «Совет», помечены решения у которых есть альтернативные решения, более оптимальные. Ты можешь найти их сразу и доработать проект, или отложить это на потом, для будущих проектах. Проект будет принят и без их доработки. </div>\n",
    "        \n",
    "<div class=\"alert alert-danger\"> Красным цветом и значком словом «Ошибка» помечу твои решения, на которые стоит обратить внимание прежде всего. После их доработки проект будет принят. </div>\n",
    "        \n",
    "Залог успеха - работа сообща, взаимное уважение и работа в диалоге. Поэтому, помечай свои ответные комментарии на мои реплики заметным цветом или курсивом, так мне будет легче их отслеживать. Пожалуйста, не изменяй и не удаляй мои комментарии. Все это поможет выполнить повторную проверку быстрей.\n",
    "\n",
    "</div>\n",
    "\n",
    "\n",
    "\n",
    "---\n",
    "    \n",
    "Для лучшей коммуникации будет лучше если ты будешь оставлять ответные комментарий (cвои комментарии к исправлениям, вопросы), так результат будет лучше.  А чтобы ревьюры их не теряли, лучше их подсвечивать цветом (можешь выбрать свой, а можешь использовать   тот который я предложил ниже). И чтобы не возникло путаницы лучше оставлять указание на номер версии комментария по итерация:  \n",
    "\n",
    "1 итерация\n",
    "\n",
    "<div class=\"alert alert-info\"> <b>Комментарии студентаV1:</b> Привет Марат!.</div>\n",
    "\n",
    "\n",
    "2 итерация\n",
    "\n",
    "<div class=\"alert alert-info\"> <b>Комментарии студентаV2:</b> Исправлено.... </div>\n",
    "    \n",
    "    \n",
    "И лучше подсвечивать свои комментарии цветом, для этого достаточно в ячейку markdown добавить: \n",
    "\n",
    "```html\n",
    "<div class=\"alert alert-info\"> <b>Комментарии студентаV2:</b> Исправлено.... </div>    \n",
    "\n",
    "```    \n",
    "    \n",
    "Хорошая коммуникация залог успеха! )\n",
    "    \n",
    "---"
   ]
  },
  {
   "cell_type": "markdown",
   "id": "557a4235",
   "metadata": {},
   "source": [
    "<div class=\"alert alert-info\"> <b>Комментарии студента V1:</b> Привет Марат! =)</div>"
   ]
  },
  {
   "cell_type": "markdown",
   "id": "cf96082f",
   "metadata": {},
   "source": [
    "<div class=\"alert alert-success\">\n",
    "<font size=\"5\"><b>Комментарий ревьюераV2</b></font>\n",
    "\n",
    "\n",
    "\n",
    "Успех 👍:\n",
    "\n",
    "\n",
    "Привет Артем!\n",
    "\n",
    "\n",
    " "
   ]
  },
  {
   "cell_type": "markdown",
   "id": "608a455f",
   "metadata": {},
   "source": [
    "<h1>Содержание<span class=\"tocSkip\"></span></h1>\n",
    "<div class=\"toc\"><ul class=\"toc-item\"><li><span><a href=\"#Подготовка\" data-toc-modified-id=\"Подготовка-1\"><span class=\"toc-item-num\">1&nbsp;&nbsp;</span>Подготовка</a></span></li><li><span><a href=\"#Обучение\" data-toc-modified-id=\"Обучение-2\"><span class=\"toc-item-num\">2&nbsp;&nbsp;</span>Обучение</a></span></li><li><span><a href=\"#Выводы\" data-toc-modified-id=\"Выводы-3\"><span class=\"toc-item-num\">3&nbsp;&nbsp;</span>Выводы</a></span></li><li><span><a href=\"#Чек-лист-проверки\" data-toc-modified-id=\"Чек-лист-проверки-4\"><span class=\"toc-item-num\">4&nbsp;&nbsp;</span>Чек-лист проверки</a></span></li></ul></div>"
   ]
  },
  {
   "cell_type": "markdown",
   "id": "462d3cda",
   "metadata": {},
   "source": [
    "# Проект для «Викишоп» с BERT"
   ]
  },
  {
   "cell_type": "markdown",
   "id": "54dff559",
   "metadata": {},
   "source": [
    "Интернет-магазин «Викишоп» запускает новый сервис. Теперь пользователи могут редактировать и дополнять описания товаров, как в вики-сообществах. То есть клиенты предлагают свои правки и комментируют изменения других. Магазину нужен инструмент, который будет искать токсичные комментарии и отправлять их на модерацию. \n",
    "\n",
    "Обучите модель классифицировать комментарии на позитивные и негативные. В вашем распоряжении набор данных с разметкой о токсичности правок.\n",
    "\n",
    "Постройте модель со значением метрики качества *F1* не меньше 0.75. \n",
    "\n",
    "**Инструкция по выполнению проекта**\n",
    "\n",
    "1. Загрузите и подготовьте данные.\n",
    "2. Обучите разные модели. \n",
    "3. Сделайте выводы.\n",
    "\n",
    "Для выполнения проекта применять *BERT* необязательно, но вы можете попробовать.\n",
    "\n",
    "**Описание данных**\n",
    "\n",
    "Данные находятся в файле `toxic_comments.csv`. Столбец *text* в нём содержит текст комментария, а *toxic* — целевой признак."
   ]
  },
  {
   "cell_type": "markdown",
   "id": "21fa7044",
   "metadata": {},
   "source": [
    "## Подготовка"
   ]
  },
  {
   "cell_type": "code",
   "execution_count": 1,
   "id": "a0296694",
   "metadata": {
    "trusted": false
   },
   "outputs": [],
   "source": [
    "import numpy as np\n",
    "import pandas as pd\n",
    "import torch\n",
    "import transformers\n",
    "from tqdm import notebook\n",
    "from sklearn.model_selection import cross_val_score\n",
    "from sklearn.model_selection import train_test_split\n",
    "from sklearn.linear_model import LogisticRegression\n",
    "from sklearn.metrics import f1_score, precision_recall_fscore_support, confusion_matrix\n",
    "\n",
    "# иморты для облака слов\n",
    "from pymystem3 import Mystem\n",
    "import re\n",
    "from sklearn.feature_extraction.text import CountVectorizer\n",
    "from wordcloud import WordCloud\n",
    "\n",
    "# для дообучения модели\n",
    "from datasets import Dataset\n",
    "import evaluate\n",
    "\n",
    "import matplotlib.pyplot as plt\n",
    "import seaborn as sns"
   ]
  },
  {
   "cell_type": "markdown",
   "id": "d107e72c",
   "metadata": {},
   "source": [
    "### Загрузка датасета"
   ]
  },
  {
   "cell_type": "code",
   "execution_count": 2,
   "id": "8b32ba83",
   "metadata": {
    "trusted": false
   },
   "outputs": [
    {
     "data": {
      "text/plain": [
       "(159292, 2)"
      ]
     },
     "metadata": {},
     "output_type": "display_data"
    },
    {
     "data": {
      "text/html": [
       "<div>\n",
       "<style scoped>\n",
       "    .dataframe tbody tr th:only-of-type {\n",
       "        vertical-align: middle;\n",
       "    }\n",
       "\n",
       "    .dataframe tbody tr th {\n",
       "        vertical-align: top;\n",
       "    }\n",
       "\n",
       "    .dataframe thead th {\n",
       "        text-align: right;\n",
       "    }\n",
       "</style>\n",
       "<table border=\"1\" class=\"dataframe\">\n",
       "  <thead>\n",
       "    <tr style=\"text-align: right;\">\n",
       "      <th></th>\n",
       "      <th>text</th>\n",
       "      <th>toxic</th>\n",
       "    </tr>\n",
       "  </thead>\n",
       "  <tbody>\n",
       "    <tr>\n",
       "      <th>0</th>\n",
       "      <td>Explanation\\nWhy the edits made under my usern...</td>\n",
       "      <td>0</td>\n",
       "    </tr>\n",
       "    <tr>\n",
       "      <th>1</th>\n",
       "      <td>D'aww! He matches this background colour I'm s...</td>\n",
       "      <td>0</td>\n",
       "    </tr>\n",
       "    <tr>\n",
       "      <th>2</th>\n",
       "      <td>Hey man, I'm really not trying to edit war. It...</td>\n",
       "      <td>0</td>\n",
       "    </tr>\n",
       "    <tr>\n",
       "      <th>3</th>\n",
       "      <td>\"\\nMore\\nI can't make any real suggestions on ...</td>\n",
       "      <td>0</td>\n",
       "    </tr>\n",
       "    <tr>\n",
       "      <th>4</th>\n",
       "      <td>You, sir, are my hero. Any chance you remember...</td>\n",
       "      <td>0</td>\n",
       "    </tr>\n",
       "  </tbody>\n",
       "</table>\n",
       "</div>"
      ],
      "text/plain": [
       "                                                text  toxic\n",
       "0  Explanation\\nWhy the edits made under my usern...      0\n",
       "1  D'aww! He matches this background colour I'm s...      0\n",
       "2  Hey man, I'm really not trying to edit war. It...      0\n",
       "3  \"\\nMore\\nI can't make any real suggestions on ...      0\n",
       "4  You, sir, are my hero. Any chance you remember...      0"
      ]
     },
     "metadata": {},
     "output_type": "display_data"
    }
   ],
   "source": [
    "data = pd.read_csv('https://code.s3.yandex.net/datasets/toxic_comments.csv', index_col=0)\n",
    "display(data.shape)\n",
    "display(data.head())"
   ]
  },
  {
   "cell_type": "markdown",
   "id": "5649bfc7",
   "metadata": {},
   "source": [
    "В исходном датасете 159292 записей. Возьмем только небольшую часть, иначе может не хватить ресурсов:"
   ]
  },
  {
   "cell_type": "code",
   "execution_count": 3,
   "id": "45d972b8",
   "metadata": {
    "trusted": false
   },
   "outputs": [],
   "source": [
    "RND_SEED = 42\n",
    "TRAIN_SIZE = 5000 # большой набор может уронить тетрадку и студию даже на локальной машине "
   ]
  },
  {
   "cell_type": "markdown",
   "id": "790ebb1d",
   "metadata": {},
   "source": [
    " \n",
    "\n",
    "\n",
    "<div class=\"alert alert-warning\">\n",
    "<font size=\"5\"><b>Комментарий ревьюера</b></font>\n",
    "\n",
    "    \n",
    "    \n",
    "    \n",
    "Совет: \n",
    "\n",
    "\n",
    "\n",
    "\n",
    "- стоило еще проверить на сбалансированность классов в таргете это важная информация при моделировании и  корректной оценки модели. и к нему график можно, ведь красивый, хорошо оформленный график может быть украшением проекта. Без учёта дисбаланса  предсказания модели могут быть смещены в сторону более часто встречающегося класса.  Для начала можно посмотреть [тут](https://pudie.ru/articles/707332/)\n",
    "\n",
    " \n",
    "   \n",
    "   \n",
    "- когда мы работаем с текстами, describe итп описательные статистике не использовать, но можно провести частотный анализ текста.  Предлагаю для этого использовать [облако слов](https://habr.com/ru/post/517410/) - чтобы получить общее представление о тематике и о наиболее часто встречаемых словах в токсичных и нетоксичных твитах (в облаке уже автоматически будут убраны стоп слова). Кроме того графики, рисунки делают проект визуально интересней\n",
    "   \n",
    "   \n",
    "В тренажере облако импортируем так\n",
    "\n",
    "    !pip install wordcloud \n",
    "\n",
    "\n",
    "или\n",
    "\n",
    "    !pip install wordcloud==1.8.2.2  \n",
    "\n",
    "\n",
    "И возможно дополнительно надо будет сделать\n",
    "\n",
    "\n",
    "\n",
    "    !pip install --upgrade Pillow  (попробуй версию 9.5.0)\n",
    "\n",
    "или\n",
    "\n",
    "\tfont_path = '/usr/share/fonts/truetype/liberation/LiberationSans-Regular.ttf'\n",
    "\tWordCloud(...., font_path = font_path,)\n",
    "     "
   ]
  },
  {
   "cell_type": "markdown",
   "id": "58936c9a",
   "metadata": {},
   "source": [
    "<div class=\"alert alert-info\"> <b>Комментарии студента V1:</b><br>http://pudie.ru/articles/707332/ не хочет открываться. Говорит \"404\"<br>Но я примерно понял, о чем ты. Под этим комментом нарисую пирог с классами</div>"
   ]
  },
  {
   "cell_type": "markdown",
   "id": "b3f8afc4",
   "metadata": {},
   "source": [
    "<div class=\"alert alert-warning\">\n",
    "<font size=\"5\"><b>Комментарий ревьюераV2</b></font>\n",
    "\n",
    "\n",
    "\n",
    "Совет 🤔:\n",
    "\n",
    "\n",
    "Действительно,  \"закрыт Шенген\""
   ]
  },
  {
   "cell_type": "markdown",
   "id": "f76ef2b6",
   "metadata": {},
   "source": [
    "### Дисбаланс классов"
   ]
  },
  {
   "cell_type": "code",
   "execution_count": 4,
   "id": "5c92ab87",
   "metadata": {
    "trusted": false
   },
   "outputs": [
    {
     "data": {
      "text/plain": [
       "toxic\n",
       "0    143106\n",
       "1     16186\n",
       "Name: count, dtype: int64"
      ]
     },
     "metadata": {},
     "output_type": "display_data"
    },
    {
     "data": {
      "image/png": "[encoded data removed]",
      "text/plain": [
       "<Figure size 300x300 with 1 Axes>"
      ]
     },
     "metadata": {},
     "output_type": "display_data"
    }
   ],
   "source": [
    "display(data['toxic'].value_counts())\n",
    "\n",
    "sns.set_style(\"whitegrid\")\n",
    "plt.figure(figsize=(3,3))\n",
    "plt.pie(x=data['toxic'].value_counts(normalize=True), labels=['Non-toxic', 'Toxic'], autopct='%.0f%%', explode=[0, 0.1]);\n",
    "plt.title('Баланс классов')\n",
    "plt.show()"
   ]
  },
  {
   "cell_type": "markdown",
   "id": "f19bae3f",
   "metadata": {},
   "source": [
    "- Получается, у нас сильный дисбаланс целевых классов. Это надо учесть при разделении выборки и при оценке модели."
   ]
  },
  {
   "cell_type": "markdown",
   "id": "5243cdde",
   "metadata": {},
   "source": [
    "<div class=\"alert alert-warning\">\n",
    "<font size=\"5\"><b>Комментарий ревьюераV2</b></font>\n",
    "\n",
    "\n",
    "\n",
    "Совет 🤔:\n",
    "\n",
    "\n",
    "Хотел бы уточнить что даже если бы у нас сбалансированный dataset всё равно нужно было и   это учитывать с помощью стратификаций. Она разбивает на выборке так, чтобы во всех, соотношение нулей и единичек в таргете было одинаковое, потому что если в тренировочный попадут примеры где нулей - 80%, а в тестовой 60%, то модель может криво обучиться "
   ]
  },
  {
   "cell_type": "markdown",
   "id": "c685987c",
   "metadata": {},
   "source": [
    "<div class=\"alert alert-info\"> <b>Комментарии студента V1:</b><br>Ок. Добавляю облако:</div>"
   ]
  },
  {
   "cell_type": "markdown",
   "id": "ca41b39a",
   "metadata": {},
   "source": [
    "<div class=\"alert alert-warning\">\n",
    "<font size=\"5\"><b>Комментарий ревьюераV2</b></font>\n",
    "\n",
    "\n",
    "\n",
    "Совет 🤔:\n",
    "\n",
    "\n",
    " Отлично, но информативнее было разбит на облако для токсичных и не токсичных"
   ]
  },
  {
   "cell_type": "markdown",
   "id": "819c952f",
   "metadata": {},
   "source": [
    "<div class=\"alert alert-info\"> <b>Комментарии студента V2:</b><br>\n",
    "Ок. Учту на будущее\n",
    "</div>"
   ]
  },
  {
   "cell_type": "markdown",
   "id": "5fe5fa8d",
   "metadata": {},
   "source": [
    "### Облако слов"
   ]
  },
  {
   "cell_type": "markdown",
   "id": "a3c8b5bf",
   "metadata": {},
   "source": [
    "Используем CountVectorizer + WordCloud. В CountVectorizer укажем словарь стоп слов и препроцессор, переводящий все в нижний регистр и оставляющий только буквы алфавита.\n",
    "\n",
    "Возьмем небольшую случайную выборку из корпуса."
   ]
  },
  {
   "cell_type": "code",
   "execution_count": 5,
   "id": "e59d1cfe",
   "metadata": {
    "trusted": false
   },
   "outputs": [
    {
     "data": {
      "image/png": "[encoded data removed]",
      "text/plain": [
       "<Figure size 1000x500 with 1 Axes>"
      ]
     },
     "metadata": {},
     "output_type": "display_data"
    }
   ],
   "source": [
    "def clear_text(text):\n",
    "    return ' '.join(re.sub(r'[^a-z]', ' ', text.lower()).split())\n",
    "\n",
    "vectorizer = CountVectorizer(stop_words='english', preprocessor=clear_text)\n",
    "freq_matrix = vectorizer.fit_transform(data.sample(n=300, random_state=RND_SEED)['text'])\n",
    "\n",
    "word_counts = np.array(freq_matrix.sum(axis=0)).flatten()\n",
    "feature_names = vectorizer.get_feature_names_out()\n",
    "word_frequencies_dict = dict(zip(feature_names, word_counts))\n",
    "\n",
    "wordcloud = WordCloud(\n",
    "    random_state=RND_SEED,\n",
    "    background_color=\"black\",\n",
    "    width=800,\n",
    "    height=400,\n",
    "    max_words=30\n",
    ")\n",
    "wordcloud.fit_words(word_frequencies_dict)\n",
    "plt.figure(figsize=(10, 5))\n",
    "plt.imshow(wordcloud, interpolation=\"bilinear\")\n",
    "plt.axis(\"off\")  # Turn off axis labels and ticks\n",
    "plt.title(\"Word Cloud from Frequencies\")\n",
    "plt.show()"
   ]
  },
  {
   "cell_type": "markdown",
   "id": "a06372c7",
   "metadata": {},
   "source": [
    "- Похоже, не всегда распознает форму слова во множественном числе"
   ]
  },
  {
   "cell_type": "markdown",
   "id": "0d3d170f",
   "metadata": {},
   "source": [
    "### Выборка текстов для работы\n",
    "Берем только часть из-за ресурсоемкости процесса"
   ]
  },
  {
   "cell_type": "code",
   "execution_count": 6,
   "id": "bb8cd424",
   "metadata": {
    "trusted": false
   },
   "outputs": [],
   "source": [
    "data = train_test_split(data, train_size=TRAIN_SIZE, random_state=RND_SEED, stratify=data['toxic'])[0]"
   ]
  },
  {
   "cell_type": "markdown",
   "id": "f90813ff",
   "metadata": {},
   "source": [
    " \n",
    "\n",
    "\n",
    "<div class=\"alert alert-warning\">\n",
    "<font size=\"5\"><b>Комментарий ревьюера</b></font>\n",
    "\n",
    "\n",
    " \n",
    "\n",
    "Совет: \n",
    "\n",
    " \n",
    "\n",
    "\n",
    "\n",
    "\n",
    "\n",
    "- обрати внимание на аргумент stratify, он позволит сохранить изначальное распределение таргетов во всех новых датасетах.  Существующий дисбаланс никуда не денется, но в каждом датасете он будет одинаковым. [Почитать](https://pythonru.com/baza-znanij/sklearn-train-test-split) можно тут\n",
    "\n",
    "\n"
   ]
  },
  {
   "cell_type": "markdown",
   "id": "2b7f7a84",
   "metadata": {},
   "source": [
    "<div class=\"alert alert-info\"> <b>Комментарии студента V1:</b><br>Совсем забыл про баланс классов. Спасибо! Добавил stratify выше</div>"
   ]
  },
  {
   "cell_type": "markdown",
   "id": "945a9194",
   "metadata": {},
   "source": [
    "### Загрузка модели\n",
    "Используем готовую модель *unitary/toxic-bert* "
   ]
  },
  {
   "cell_type": "code",
   "execution_count": 7,
   "id": "6245b42f",
   "metadata": {
    "trusted": false
   },
   "outputs": [],
   "source": [
    "tokenizer = transformers.AutoTokenizer.from_pretrained(\"unitary/toxic-bert\")\n",
    "model = transformers.AutoModel.from_pretrained(\"unitary/toxic-bert\")"
   ]
  },
  {
   "cell_type": "markdown",
   "id": "83859d51",
   "metadata": {},
   "source": [
    "<div class=\"alert alert-success\">\n",
    "<font size=\"5\"><b>Комментарий ревьюера</b></font>\n",
    "\n",
    "Успех:\n",
    "\n",
    "\n",
    "\n",
    "Есть множество предобученных моделей Берт. И выглядит логичным использовать именно toxic-bert для нашего случая. 80% успеха это правильный выбор предобученной модели \n",
    " "
   ]
  },
  {
   "cell_type": "markdown",
   "id": "f5e29e5b",
   "metadata": {},
   "source": [
    "### Стемминг\n",
    "Чтобы сэкономить время и ресурсы еще ограничим длину вектора 80-м процентилем длин полученных векторов."
   ]
  },
  {
   "cell_type": "code",
   "execution_count": 8,
   "id": "169602e9",
   "metadata": {
    "trusted": false
   },
   "outputs": [
    {
     "name": "stdout",
     "output_type": "stream",
     "text": [
      "80-percentile max_len: 124\n"
     ]
    },
    {
     "data": {
      "text/plain": [
       "(5000, 124)"
      ]
     },
     "execution_count": 8,
     "metadata": {},
     "output_type": "execute_result"
    },
    {
     "data": {
      "image/png": "[encoded data removed]",
      "text/plain": [
       "<Figure size 1200x400 with 2 Axes>"
      ]
     },
     "metadata": {},
     "output_type": "display_data"
    }
   ],
   "source": [
    "def tokenize(data):\n",
    "\ttokenized = data['text'].apply(lambda x: tokenizer.encode(x, add_special_tokens=True, truncation=True, max_length=512))\n",
    "\n",
    "\tlen_list = []\n",
    "\tfor i in tokenized.values:\n",
    "\t\tlen_list.append(len(i))\n",
    "\n",
    "\tmax_len = int(np.percentile(len_list, q=80))\n",
    "\tprint(f'80-percentile max_len: {max_len}')\n",
    "\n",
    "\tfig, axes = plt.subplots(2, 1)\n",
    "\tfig.set_size_inches(12, 4)\n",
    "\tsns.histplot(data=len_list, bins=150, ax=axes[0]);\n",
    "\tsns.boxplot(data=len_list, whis=[20, 80], ax=axes[1], orient='h');\n",
    "\taxes[0].set_title('Распределение исходных длин векторов с токенами')\n",
    "\taxes[0].sharex(axes[1])\n",
    "\n",
    "\tpadded = np.array([i[:max_len] + [0] * max(0, (max_len - len(i))) for i in tokenized.values])\n",
    "\tattention_mask = np.where(padded != 0, 1, 0)\n",
    "\n",
    "\treturn padded, attention_mask, max_len\n",
    "\n",
    "padded, attention_mask, max_len = tokenize(data)\n",
    "padded.shape"
   ]
  },
  {
   "cell_type": "markdown",
   "id": "42327f22",
   "metadata": {},
   "source": [
    "- Идея такого ограничения по max_len в том, что, как видно на графиках, основная часть текстов в данном корпусе выдают кол-во лемм заметно меньше максимального кол-ва, поддерживаемого моделью (512), поэтому, если мы будем формировать матрицу на 512 лемм, в ней будет много бесполезных нулей, что неразумно, т.к. обработка лемм BERT-ом - процесс ресурсоемкий.\n",
    "\n",
    "Можно еще так получить токены, но возвращаемый BatchEncoding еще надо преобразовать в 2d ndarray, плюс большие набор данных и max_length роняют тетрадку и студию:\n",
    "\n",
    "padded = tokenizer(data['text'].to_list(), padding=True, truncation=True, max_length=128)"
   ]
  },
  {
   "cell_type": "markdown",
   "id": "af2e5bd5",
   "metadata": {},
   "source": [
    "## Обучение"
   ]
  },
  {
   "cell_type": "markdown",
   "id": "48262c45",
   "metadata": {},
   "source": [
    "### Способ v.0\n",
    "#### Embeddings"
   ]
  },
  {
   "cell_type": "code",
   "execution_count": 9,
   "id": "4a7861f3",
   "metadata": {
    "trusted": false
   },
   "outputs": [
    {
     "name": "stdout",
     "output_type": "stream",
     "text": [
      "Using device: cpu\n"
     ]
    }
   ],
   "source": [
    "device = torch.device(\"cuda\" if torch.cuda.is_available() else \"cpu\")\n",
    "print(f\"Using device: {device}\")\n",
    "model = model.to(device) # на всякий случай с присвоением, хотя вроде только для тензоров это надо"
   ]
  },
  {
   "cell_type": "code",
   "execution_count": 10,
   "id": "fd82d197",
   "metadata": {
    "trusted": false
   },
   "outputs": [
    {
     "data": {
      "application/vnd.jupyter.widget-view+json": {
       "model_id": "096553d8d96745ae83c2d41e2dd84a50",
       "version_major": 2,
       "version_minor": 0
      },
      "text/plain": [
       "  0%|          | 0/50 [00:00<?, ?it/s]"
      ]
     },
     "metadata": {},
     "output_type": "display_data"
    }
   ],
   "source": [
    "batch_size = 100\n",
    "embeddings = []\n",
    "\n",
    "for i in notebook.tqdm(range(padded.shape[0] // batch_size)):\n",
    "\tbatch = torch.LongTensor(padded[batch_size * i : batch_size * (i + 1)]).to(device)\n",
    "\tattention_mask_batch = torch.LongTensor(attention_mask[batch_size * i : batch_size * (i + 1)]).to(device)\n",
    "\twith torch.no_grad():\n",
    "\t\tbatch_embeddings = model(batch, attention_mask=attention_mask_batch)\n",
    "\tembeddings.append(batch_embeddings[0][:, 0, :].numpy())"
   ]
  },
  {
   "cell_type": "markdown",
   "id": "51a56b77",
   "metadata": {},
   "source": [
    " \n",
    "\n",
    "<div class=\"alert alert-warning\">\n",
    "<font size=\"5\"><b>Комментарий ревьюера</b></font>\n",
    "\n",
    "\n",
    "\n",
    "Совет 🤔:\n",
    "\n",
    "\n",
    "    \n",
    "Для ускорения можно использовать GPU. Это можно сделать в Colab, у меня использование ГПУ ускорило получение эмбедингов раз в 10 - 30\n",
    " \n",
    "\n",
    "Даже если у тебя возможности использовать gpu нет, всё равно можно прописать эту возможность, для тех кто будет работать с твоим кодом\n",
    "\n",
    "    device = torch.device(\"cuda\" if torch.cuda.is_available() else \"cpu\")\n",
    "    print(f\"Using device: {device}\")\n",
    "    \n",
    "Ложим модельку на device\n",
    "    \n",
    "    model.to(device)\n",
    "    \n",
    "    \n",
    "По той же схеме ложим данные на   device  \n",
    "    \n",
    "    \n",
    " "
   ]
  },
  {
   "cell_type": "markdown",
   "id": "59d95512",
   "metadata": {},
   "source": [
    "<div class=\"alert alert-info\"> <b>Комментарии студента V1:</b><br>Так? (вторая ячейка вверх)</div>"
   ]
  },
  {
   "cell_type": "markdown",
   "id": "88416f6a",
   "metadata": {},
   "source": [
    "<div class=\"alert alert-success\">\n",
    "<font size=\"5\"><b>Комментарий ревьюераV2</b></font>\n",
    "\n",
    "\n",
    "\n",
    "Успех 👍:\n",
    "\n",
    "\n",
    "\n",
    "👍\n",
    "\n",
    "\n",
    " "
   ]
  },
  {
   "cell_type": "markdown",
   "id": "b16668e0",
   "metadata": {},
   "source": [
    "#### Регрессия"
   ]
  },
  {
   "cell_type": "code",
   "execution_count": 11,
   "id": "9ce70ccf",
   "metadata": {
    "trusted": false
   },
   "outputs": [
    {
     "name": "stdout",
     "output_type": "stream",
     "text": [
      "F1 на кроссвалидации: [0.89156627 0.88607595 0.8625     0.8625     0.8969697 ]\n"
     ]
    }
   ],
   "source": [
    "features = np.concatenate(embeddings)\n",
    "\n",
    "X_train, X_test, y_train, y_test = train_test_split(\n",
    "    features, data['toxic'], test_size=0.2, random_state=RND_SEED, stratify=data['toxic'])\n",
    "estimator = LogisticRegression(random_state=RND_SEED).fit(X_train, y_train)\n",
    "scores = cross_val_score(estimator, X_train, y_train, scoring='f1')\n",
    "print(f'F1 на кроссвалидации: {scores}')"
   ]
  },
  {
   "cell_type": "markdown",
   "id": "10e5c9de",
   "metadata": {},
   "source": [
    "#### F1 на тестовой выборке"
   ]
  },
  {
   "cell_type": "code",
   "execution_count": 12,
   "id": "8456ad8a",
   "metadata": {
    "trusted": false
   },
   "outputs": [
    {
     "name": "stdout",
     "output_type": "stream",
     "text": [
      "F1 on test set: 0.91\n"
     ]
    },
    {
     "data": {
      "image/png": "[encoded data removed]",
      "text/plain": [
       "<Figure size 300x200 with 2 Axes>"
      ]
     },
     "metadata": {},
     "output_type": "display_data"
    }
   ],
   "source": [
    "y_pred = estimator.predict(X_test)\n",
    "print(f'F1 on test set: {f1_score(y_test, y_pred):.02f}')\n",
    "precision_recall_fscore_support(y_test, y_pred)\n",
    "plt.figure(figsize=(3, 2))\n",
    "sns.heatmap(confusion_matrix(y_test, y_pred), annot=True, fmt='d', cmap='Blues_r');"
   ]
  },
  {
   "cell_type": "markdown",
   "id": "56c6bc98",
   "metadata": {},
   "source": [
    "<div class=\"alert alert-success\">\n",
    "<font size=\"5\"><b>Комментарий ревьюера</b></font>\n",
    "\n",
    "Успех: \n",
    " \n",
    "\n",
    "- Если студент получил на тесте f1 выше 0,8, это считается отличным результатом.\n",
    "\n",
    " \n",
    "\n",
    "<div class=\"alert alert-warning\">\n",
    "\n",
    "\n",
    "\n",
    "Совет: \n",
    "\n",
    " \n",
    "\n",
    "\n",
    "   \n",
    "\n",
    "В случае использования Берта   можно попробовать оценить важный слово с помощью библиотеки transformers-interpret\n",
    "    \n",
    "    \n",
    "    from transformers_interpret import SequenceClassificationExplainer\n",
    "    \n",
    "    cls_explainer = SequenceClassificationExplainer(model, tokenizer)\n",
    "    \n",
    "    word_attributions = cls_explainer(Тут какой-нибудь негативный твит)\n",
    "    cls_explainer.predicted_class_name\n",
    "    \n",
    "    \n",
    "word_attributions    список кортежей, где каждый кортеж содержит токен (слово или подслово) и его важность (значение SHAP) для предсказания модели. И вот так можно пробежаться по негативным твитам,  и собрать какую-то среднюю статистику по словам которые важны для присваивания  LABEL_1  (Негативный твит)\n",
    "    \n",
    "     "
   ]
  },
  {
   "cell_type": "markdown",
   "id": "661847e0",
   "metadata": {},
   "source": [
    "<div class=\"alert alert-info\"> <b>Комментарии студента V1:</b><br>Попробовал сделать. Ругается<br>AttributeError: 'BertModel' object has no attribute 'bert'<br>\n",
    "Если ты не против, в этой работе не буду с этой ошибкой разбираться. Попробую как-нибудь отдельно. Там, есть вероятность, несоответствие версий либ.</div>"
   ]
  },
  {
   "cell_type": "markdown",
   "id": "56929b77",
   "metadata": {},
   "source": [
    "<div class=\"alert alert-warning\">\n",
    "<font size=\"5\"><b>Комментарий ревьюераV2</b></font>\n",
    "\n",
    "\n",
    "\n",
    "Совет 🤔:\n",
    "\n",
    "\n",
    "Всё что жёлтым Это по желанию "
   ]
  },
  {
   "cell_type": "code",
   "execution_count": 13,
   "id": "24ee2dc3",
   "metadata": {
    "trusted": false
   },
   "outputs": [],
   "source": [
    "#toxic_example = data.loc[y_test[y_test == 1].index[0], 'text']\n",
    "#print(toxic_example)\n",
    "\n",
    "#from transformers_interpret import SequenceClassificationExplainer\n",
    "\n",
    "#cls_explainer = SequenceClassificationExplainer(model, tokenizer) # AttributeError: 'BertModel' object has no attribute 'bert'\n",
    "\n",
    "#word_attributions = cls_explainer(X_test[y_test[y_test == 1].index[0]])\n",
    "#cls_explainer.predicted_class_name"
   ]
  },
  {
   "cell_type": "markdown",
   "id": "02d69f16",
   "metadata": {},
   "source": [
    "<div class=\"alert alert-warning\">\n",
    "<font size=\"5\"><b>Комментарий ревьюера</b></font>\n",
    "\n",
    "Совет: \n",
    "\n",
    " \n",
    " \n",
    "    \n",
    "Есть и другой вариант. Можно потюнить модель Берта,  можешь взять на основу [статью (там вообще все возможные варианты рассмотрены, причём с использованием разных библиотек)](https://habr.com/ru/articles/704592/) или этот [ролик](https://www.youtube.com/watch?v=Z1J3sTJYIcc&list=PLEwK9wdS5g0qksxWxtE5c2KuFkIfUXe3i&index=14), там прямо можно посмотреть процесс кодирования, и получше разобраться в практической релизации Берта (тут реализация сложнее, метрики я видел за 0,8). Если использовать [Trainer](https://pytorch.org/rl/reference/generated/torchrl.trainers.Trainer.html), будет всё гораздо проще. \n",
    "    \n",
    "      "
   ]
  },
  {
   "cell_type": "markdown",
   "id": "939a66b2",
   "metadata": {},
   "source": [
    "### Способ v.1"
   ]
  },
  {
   "cell_type": "code",
   "execution_count": 21,
   "id": "93fc9be8",
   "metadata": {},
   "outputs": [],
   "source": [
    "RND_SEED = 42\n",
    "TRAIN_SIZE = 500 # здесь еще меньше придется сделать. на 5000 будет учиться 2.5 часа"
   ]
  },
  {
   "cell_type": "markdown",
   "id": "1fec4427",
   "metadata": {},
   "source": [
    "Перезагрузим данные на всякий случай"
   ]
  },
  {
   "cell_type": "code",
   "execution_count": 22,
   "id": "d137a0e1",
   "metadata": {
    "trusted": false
   },
   "outputs": [],
   "source": [
    "data = pd.read_csv('https://code.s3.yandex.net/datasets/toxic_comments.csv', index_col=0)\n",
    "data.columns = ['text', 'labels']\n",
    "data = train_test_split(data, train_size=TRAIN_SIZE, random_state=RND_SEED, stratify=data['labels'])[0]\n",
    "train, test = train_test_split(data, test_size=0.2, random_state=RND_SEED, stratify=data['labels'])\n",
    "\n",
    "train = Dataset.from_pandas(train)\n",
    "test = Dataset.from_pandas(test)"
   ]
  },
  {
   "cell_type": "code",
   "execution_count": 23,
   "id": "12238487",
   "metadata": {
    "trusted": false
   },
   "outputs": [
    {
     "name": "stderr",
     "output_type": "stream",
     "text": [
      "Some weights of BertForSequenceClassification were not initialized from the model checkpoint at google-bert/bert-base-uncased and are newly initialized: ['classifier.bias', 'classifier.weight']\n",
      "You should probably TRAIN this model on a down-stream task to be able to use it for predictions and inference.\n"
     ]
    }
   ],
   "source": [
    "tokenizer = transformers.AutoTokenizer.from_pretrained(\"google-bert/bert-base-uncased\")\n",
    "model = transformers.AutoModelForSequenceClassification.from_pretrained(\"google-bert/bert-base-uncased\")\n",
    "\n",
    "# Traner вроде бы сам определяет device и переносит на него модель. Т.е. здесь руками переключать вроде бы не надо."
   ]
  },
  {
   "cell_type": "markdown",
   "id": "fe0e33dc",
   "metadata": {},
   "source": [
    "#### Извлечение токенов\n",
    "В этом варианте ограничение по длине отличается от предыдущего. Если в первом варианте мы говорили модели вернтуть нам максимальное для нее кол-во токенов (512), потом находили приемлемое органичение длины (80% длин, 124), то здесь мы сразу просим модель вернуть там 124 токена."
   ]
  },
  {
   "cell_type": "code",
   "execution_count": 24,
   "id": "36840717",
   "metadata": {
    "trusted": false
   },
   "outputs": [
    {
     "data": {
      "application/vnd.jupyter.widget-view+json": {
       "model_id": "f7dad76d54ff4819af25603a63f4ab86",
       "version_major": 2,
       "version_minor": 0
      },
      "text/plain": [
       "Map:   0%|          | 0/400 [00:00<?, ? examples/s]"
      ]
     },
     "metadata": {},
     "output_type": "display_data"
    },
    {
     "data": {
      "application/vnd.jupyter.widget-view+json": {
       "model_id": "d14e246d79fc425d812247cbf3735683",
       "version_major": 2,
       "version_minor": 0
      },
      "text/plain": [
       "Map:   0%|          | 0/100 [00:00<?, ? examples/s]"
      ]
     },
     "metadata": {},
     "output_type": "display_data"
    }
   ],
   "source": [
    "max_len = 124\n",
    "\n",
    "def tokenize_function(data):\n",
    "\treturn tokenizer(data['text'], padding='max_length', max_length=max_len, truncation=True)\n",
    "\n",
    "tokenized_train = train.map(tokenize_function)\n",
    "tokenized_test = test.map(tokenize_function)"
   ]
  },
  {
   "cell_type": "markdown",
   "id": "66f0c0cd",
   "metadata": {},
   "source": [
    "#### Тюнинг"
   ]
  },
  {
   "cell_type": "code",
   "execution_count": 25,
   "id": "880591b1",
   "metadata": {
    "trusted": false
   },
   "outputs": [
    {
     "name": "stderr",
     "output_type": "stream",
     "text": [
      "/home/wtom/code/notebooks/practicum/wikishop/.venv/lib/python3.12/site-packages/torch/utils/data/dataloader.py:666: UserWarning: 'pin_memory' argument is set as true but no accelerator is found, then device pinned memory won't be used.\n",
      "  warnings.warn(warn_msg)\n"
     ]
    },
    {
     "data": {
      "text/html": [
       "\n",
       "    <div>\n",
       "      \n",
       "      <progress value='500' max='500' style='width:300px; height:20px; vertical-align: middle;'></progress>\n",
       "      [500/500 15:43, Epoch 5/5]\n",
       "    </div>\n",
       "    <table border=\"1\" class=\"dataframe\">\n",
       "  <thead>\n",
       " <tr style=\"text-align: left;\">\n",
       "      <th>Epoch</th>\n",
       "      <th>Training Loss</th>\n",
       "      <th>Validation Loss</th>\n",
       "      <th>F1</th>\n",
       "    </tr>\n",
       "  </thead>\n",
       "  <tbody>\n",
       "    <tr>\n",
       "      <td>1</td>\n",
       "      <td>No log</td>\n",
       "      <td>0.363379</td>\n",
       "      <td>0.615385</td>\n",
       "    </tr>\n",
       "    <tr>\n",
       "      <td>2</td>\n",
       "      <td>No log</td>\n",
       "      <td>0.299305</td>\n",
       "      <td>0.705882</td>\n",
       "    </tr>\n",
       "    <tr>\n",
       "      <td>3</td>\n",
       "      <td>No log</td>\n",
       "      <td>0.378961</td>\n",
       "      <td>0.705882</td>\n",
       "    </tr>\n",
       "    <tr>\n",
       "      <td>4</td>\n",
       "      <td>No log</td>\n",
       "      <td>0.383226</td>\n",
       "      <td>0.705882</td>\n",
       "    </tr>\n",
       "    <tr>\n",
       "      <td>5</td>\n",
       "      <td>0.114600</td>\n",
       "      <td>0.396347</td>\n",
       "      <td>0.705882</td>\n",
       "    </tr>\n",
       "  </tbody>\n",
       "</table><p>"
      ],
      "text/plain": [
       "<IPython.core.display.HTML object>"
      ]
     },
     "metadata": {},
     "output_type": "display_data"
    },
    {
     "name": "stdout",
     "output_type": "stream",
     "text": [
      "eval_pred <transformers.trainer_utils.EvalPrediction object at 0x78aa40aeb560>\n"
     ]
    },
    {
     "name": "stderr",
     "output_type": "stream",
     "text": [
      "/home/wtom/code/notebooks/practicum/wikishop/.venv/lib/python3.12/site-packages/torch/utils/data/dataloader.py:666: UserWarning: 'pin_memory' argument is set as true but no accelerator is found, then device pinned memory won't be used.\n",
      "  warnings.warn(warn_msg)\n"
     ]
    },
    {
     "name": "stdout",
     "output_type": "stream",
     "text": [
      "eval_pred <transformers.trainer_utils.EvalPrediction object at 0x78aa3edac200>\n"
     ]
    },
    {
     "name": "stderr",
     "output_type": "stream",
     "text": [
      "/home/wtom/code/notebooks/practicum/wikishop/.venv/lib/python3.12/site-packages/torch/utils/data/dataloader.py:666: UserWarning: 'pin_memory' argument is set as true but no accelerator is found, then device pinned memory won't be used.\n",
      "  warnings.warn(warn_msg)\n"
     ]
    },
    {
     "name": "stdout",
     "output_type": "stream",
     "text": [
      "eval_pred <transformers.trainer_utils.EvalPrediction object at 0x78aa3ed8af30>\n"
     ]
    },
    {
     "name": "stderr",
     "output_type": "stream",
     "text": [
      "/home/wtom/code/notebooks/practicum/wikishop/.venv/lib/python3.12/site-packages/torch/utils/data/dataloader.py:666: UserWarning: 'pin_memory' argument is set as true but no accelerator is found, then device pinned memory won't be used.\n",
      "  warnings.warn(warn_msg)\n"
     ]
    },
    {
     "name": "stdout",
     "output_type": "stream",
     "text": [
      "eval_pred <transformers.trainer_utils.EvalPrediction object at 0x78aa3ed56c00>\n"
     ]
    },
    {
     "name": "stderr",
     "output_type": "stream",
     "text": [
      "/home/wtom/code/notebooks/practicum/wikishop/.venv/lib/python3.12/site-packages/torch/utils/data/dataloader.py:666: UserWarning: 'pin_memory' argument is set as true but no accelerator is found, then device pinned memory won't be used.\n",
      "  warnings.warn(warn_msg)\n",
      "/home/wtom/code/notebooks/practicum/wikishop/.venv/lib/python3.12/site-packages/torch/utils/data/dataloader.py:666: UserWarning: 'pin_memory' argument is set as true but no accelerator is found, then device pinned memory won't be used.\n",
      "  warnings.warn(warn_msg)\n"
     ]
    },
    {
     "name": "stdout",
     "output_type": "stream",
     "text": [
      "eval_pred <transformers.trainer_utils.EvalPrediction object at 0x78aa44b5a870>\n"
     ]
    },
    {
     "data": {
      "text/plain": [
       "TrainOutput(global_step=500, training_loss=0.11457589721679687, metrics={'train_runtime': 946.3644, 'train_samples_per_second': 2.113, 'train_steps_per_second': 0.528, 'total_flos': 127444417440000.0, 'train_loss': 0.11457589721679687, 'epoch': 5.0})"
      ]
     },
     "execution_count": 25,
     "metadata": {},
     "output_type": "execute_result"
    }
   ],
   "source": [
    "training_args = transformers.TrainingArguments(\n",
    "\teval_strategy = 'epoch',\n",
    "\tper_device_train_batch_size = 4,\n",
    "\tper_device_eval_batch_size = 4,\n",
    "\tnum_train_epochs = 5,\n",
    "\treport_to='none'\n",
    ")\n",
    "\n",
    "metric = evaluate.load('f1')\n",
    "def compute_metrics(eval_pred):\n",
    "\tprint('eval_pred', eval_pred)\n",
    "\tlogits, labels = eval_pred\n",
    "\tpredictions = np.argmax(logits, axis=-1)\n",
    "\treturn metric.compute(predictions=predictions, references=labels)\n",
    "\n",
    "trainer = transformers.Trainer(\n",
    "\tmodel = model,\n",
    "\targs = training_args,\n",
    "\ttrain_dataset = tokenized_train,\n",
    "\teval_dataset = tokenized_test,\n",
    "\tcompute_metrics = compute_metrics)\n",
    "\n",
    "trainer.train()"
   ]
  },
  {
   "cell_type": "markdown",
   "id": "0c92058d",
   "metadata": {},
   "source": [
    "<div class=\"alert alert-info\"> <b>Комментарии студента V1:</b><br>\n",
    "Попробовал использовать Trainer. Запутался: не могу понять, как решить проблему с несовпадением набора классов таргета. В модели их 6, у нас 2. Причем модель, похоже, возвращает их как вектор из 6 значений различных видов токсичности, а у нас одно значение - нормально/токсично. В итоге где-то, похоже, на этапе расчета метрики возникает такая ошибка:<br><br>\n",
    "ValueError: Target size (torch.Size([4])) must be the same as input size (torch.Size([4, 6]))<br><br>\n",
    "Как лучше посчитать F1, имея 6 выходов у модели и 1 таргет? Можно развернуть таргет в 6 одинаковых полей, что, наверное, будет комфортно для модели, можно наоборот, взять сумму (или сдреднее) 6-ти выходов модели, но как лучше это сделать? Соответствующий код себе пока не очень хорошо представляю, и что ест metric.compute, тоже.<br>\n",
    "И не возникнет ли дальше проблем, даже если решить эту?\n",
    "</div>"
   ]
  },
  {
   "cell_type": "markdown",
   "id": "67b5d6e6",
   "metadata": {},
   "source": [
    "<div class=\"alert alert-warning\">\n",
    "<font size=\"5\"><b>Комментарий ревьюераV2</b></font>\n",
    "\n",
    "\n",
    "\n",
    "Совет 🤔:\n",
    "\n",
    "\n",
    "Есть вариант добавить в самый конец добавить последний линейный слой который будет принимать шесть классов а выдавать два. Но проще использовать модель которая выдаёт два класса, например   bert-base"
   ]
  },
  {
   "cell_type": "markdown",
   "id": "fff76cf1",
   "metadata": {},
   "source": [
    "<div class=\"alert alert-info\"> <b>Комментарии студента V2:</b><br>\n",
    "Попробовал google-bert/bert-base-uncased. Вроде процесс пошел =) Но пришлось еще в 10 урезать выборку, на 5000 обучалось бы 2.5 часа. F1 получился 0.70, т.е. здесь хуже, чем требуется, видимо, надо подкручивать параметры, или выборку увеличивать - 500 сэмплов, это примерно 50 токсичных сэмплов - мало. Здесь уже, наверное, не вариант делать, но процесс я прочувствовал, буду знать ) Спасибо!\n",
    "</div>"
   ]
  },
  {
   "cell_type": "markdown",
   "id": "a78b6f1b",
   "metadata": {},
   "source": [
    "### Pipeline\n",
    "Просто посмотреть, что выдает модель на нескольких примерах"
   ]
  },
  {
   "cell_type": "markdown",
   "id": "a02b6a89",
   "metadata": {},
   "source": [
    "<div class=\"alert alert-info\"> <b>Комментарии студента V2:</b><br>\n",
    "О. Можно же свою модель сюда подставить:\n",
    "</div>"
   ]
  },
  {
   "cell_type": "code",
   "execution_count": 26,
   "id": "f4de0dcc",
   "metadata": {
    "trusted": false
   },
   "outputs": [
    {
     "name": "stderr",
     "output_type": "stream",
     "text": [
      "Device set to use cpu\n"
     ]
    },
    {
     "name": "stdout",
     "output_type": "stream",
     "text": [
      "\"\n",
      "\n",
      " You are very welcome Mila. By the way you (or we) could perhaps also place a copy of that image on the page Polyceridae ( a fmaily of nudibranchs) because that species ... Triopha catalinae J. G. Cooper, 1863 sea-clown triopha ... is listed there since it belongs to that family. Since the species name Triopha catalinae is linked to a non-existent page, we could even (if we felt like it to) start a new page for that species. (By the way, in English the word nudibranchs is spelled without the \"\"e\"\".) I did try to look up your images on Bill's site, but I was not able to get to the exact page on a lot of them. just a list and at the present time  I did not take the time to try to track it down any further. Maybe I will do that later.   \"\n",
      "\"\n",
      "\n",
      "ROFL, I just saw this page and was about to post this same thing but you already said it. I've never heard it called \"\"CM\"\". Maybe it's a British thing.  \"\n",
      "ah good - swing on, in that case!\n"
     ]
    },
    {
     "data": {
      "text/plain": [
       "[[{'label': 'LABEL_0', 'score': 0.9999033212661743},\n",
       "  {'label': 'LABEL_1', 'score': 9.672428132034838e-05}],\n",
       " [{'label': 'LABEL_0', 'score': 0.9998617172241211},\n",
       "  {'label': 'LABEL_1', 'score': 0.00013825579662807286}],\n",
       " [{'label': 'LABEL_0', 'score': 0.9998899698257446},\n",
       "  {'label': 'LABEL_1', 'score': 0.00010997593199135736}]]"
      ]
     },
     "execution_count": 26,
     "metadata": {},
     "output_type": "execute_result"
    }
   ],
   "source": [
    "from transformers import pipeline\n",
    "\n",
    "clf = pipeline(\n",
    "    task = 'sentiment-analysis', \n",
    "    model = model,\n",
    "\ttokenizer = tokenizer)\n",
    "#    model = 'unitary/toxic-bert',\n",
    "#\ttokenizer = 'unitary/toxic-bert')\n",
    "\n",
    "text = data.sample(3, random_state=77)['text'].to_list()\n",
    "print('\\n'.join(text))\n",
    "clf(text, top_k=None)"
   ]
  },
  {
   "cell_type": "markdown",
   "id": "6ae2b9b7",
   "metadata": {},
   "source": [
    "## Выводы"
   ]
  },
  {
   "cell_type": "markdown",
   "id": "ee73ba20",
   "metadata": {},
   "source": [
    "- Получили датасет toxic_comments\n",
    "- Чтобы хватило ресурсов, взяли небольшую случайную часть сета в работу (5000 текстов)\n",
    "- Использовали готовую модель unitary/toxic-bert\n",
    "- Длину векторов лемм ограничили 80%-ным процентилем длин (~128 лемм)\n",
    "- Обучили модель логистической регрессии, получили метрику F1 на тестовой выборке, удовлетворяющую условию задачи."
   ]
  },
  {
   "cell_type": "markdown",
   "id": "fafc9b97",
   "metadata": {},
   "source": [
    "\n",
    "<div class=\"alert alert-info\">\n",
    "<font size=\"5\"><b>Комментарий ревьюера</b></font>\n",
    "\n",
    "\n",
    "\n",
    "Артём, у тебя старательно выполненная работа, все четко, осмысленно. Здорово Что использовал продвинутый подход с Бертом\n",
    "\n",
    " \n",
    "\n",
    "\n",
    "\n",
    "Ошибок нет но можешь попробовать:\n",
    "\n",
    "\n",
    "\n",
    "-  по-другому использовать Берт \n",
    "    \n",
    "\n",
    "- для красивой  визуализации можешь построить облако для токсичных и нетоксичных комментариев\n",
    "\n",
    " \n",
    "\n",
    "\n",
    "\n",
    "\n",
    "\n",
    "Посылаю на вторую итерацию, чтобы ответить на вопросы если они появятся, на связи\n",
    "    \n",
    "\n",
    "\n",
    "\n",
    " \n",
    "\n",
    "<font color='green'><b>Полезные (и просто интересные) материалы:</b> \\\n",
    "Для работы с текстами используют и другие подходы. Например, сейчас активно используются RNN (LSTM) и трансформеры (BERT и другие с улицы Сезам, например, ELMO). НО! Они не являются панацеей, не всегда они нужны, так как и TF-IDF или Word2Vec + модели из классического ML тоже могут справляться. \\\n",
    "BERT тяжелый, существует много его вариаций для разных задач, есть готовые модели, есть надстройки над библиотекой transformers. Если, обучать BERT на GPU (можно в Google Colab или Kaggle), то должно быть побыстрее.\\\n",
    "https://huggingface.co/transformers/model_doc/bert.html \\\n",
    "https://t.me/renat_alimbekov \\\n",
    "https://colah.github.io/posts/2015-08-Understanding-LSTMs/ - Про LSTM \\\n",
    "https://web.stanford.edu/~jurafsky/slp3/10.pdf - про энкодер-декодер модели, этеншены\\\n",
    "https://pytorch.org/tutorials/beginner/transformer_tutorial.html - официальный гайд\n",
    "по трансформеру от создателей pytorch\\\n",
    "https://transformer.huggingface.co/ - поболтать с трансформером \\\n",
    "Библиотеки: allennlp, fairseq, transformers, tensorflow-text — множествореализованных\n",
    "методов для трансформеров методов NLP \\\n",
    "Word2Vec https://radimrehurek.com/gensim/models/word2vec.html \n",
    "\n",
    "\n",
    "Если понравилась работа с текстами, то можешь посмотреть очень интересный (но очень-очень сложный) курс лекций: https://github.com/yandexdataschool/nlp_course .\n",
    "\n",
    "Если нравится смотреть и слушать то есть целый курс на Ютубе https://www.youtube.com/watch?v=qDMwIQRQt-M&list=PLEwK9wdS5g0qksxWxtE5c2KuFkIfUXe3i&index=1\n"
   ]
  },
  {
   "cell_type": "markdown",
   "id": "ba684d85",
   "metadata": {},
   "source": [
    "\n",
    "<div class=\"alert alert-info\">\n",
    "<font size=\"5\"><b>Комментарий ревьюераV2</b></font>\n",
    "\n",
    " \n",
    "     \n",
    "Постарался ответить на твои вопросы.     \n",
    " \n",
    "Давай на всякий случай отправлю ещё на одну итерацию если вдруг ты решишь что-то доделать (второй вариант Берта). А если нет, то присылай мне обратно, буду сразу принимать    "
   ]
  },
  {
   "cell_type": "markdown",
   "id": "5b2aa8ab",
   "metadata": {},
   "source": [
    "<div class=\"alert alert-info\"> <b>Комментарии студента V2:</b><br>\n",
    "Марат, благодарю. Много полезного подсказал. Буду иметь в виду. Дообучение у меня по f1 порог не преодолело, но хотя бы процесс более понятным стал. Спасибо!\n",
    "</div>"
   ]
  },
  {
   "cell_type": "markdown",
   "id": "b4d4d545",
   "metadata": {},
   "source": [
    "## Чек-лист проверки"
   ]
  },
  {
   "cell_type": "markdown",
   "id": "eefb389f",
   "metadata": {},
   "source": [
    "- [x]  Jupyter Notebook открыт\n",
    "- [x]  Весь код выполняется без ошибок\n",
    "- [x]  Ячейки с кодом расположены в порядке исполнения\n",
    "- [x]  Данные загружены и подготовлены\n",
    "- [x]  Модели обучены\n",
    "- [x]  Значение метрики *F1* не меньше 0.75\n",
    "- [x]  Выводы написаны"
   ]
  }
 ],
 "metadata": {
  "kernelspec": {
   "display_name": ".venv",
   "language": "python",
   "name": "python3"
  },
  "language_info": {
   "codemirror_mode": {
    "name": "ipython",
    "version": 3
   },
   "file_extension": ".py",
   "mimetype": "text/x-python",
   "name": "python",
   "nbconvert_exporter": "python",
   "pygments_lexer": "ipython3",
   "version": "3.12.3"
  },
  "toc": {
   "base_numbering": 1,
   "nav_menu": {},
   "number_sections": true,
   "sideBar": true,
   "skip_h1_title": true,
   "title_cell": "Table of Contents",
   "title_sidebar": "Contents",
   "toc_cell": false,
   "toc_position": {},
   "toc_section_display": true,
   "toc_window_display": false
  }
 },
 "nbformat": 4,
 "nbformat_minor": 5
}
