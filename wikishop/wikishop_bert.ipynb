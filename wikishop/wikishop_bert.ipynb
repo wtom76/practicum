{
 "cells": [
  {
   "cell_type": "markdown",
   "id": "608a455f",
   "metadata": {},
   "source": [
    "<h1>Содержание<span class=\"tocSkip\"></span></h1>\n",
    "<div class=\"toc\"><ul class=\"toc-item\"><li><span><a href=\"#Подготовка\" data-toc-modified-id=\"Подготовка-1\"><span class=\"toc-item-num\">1&nbsp;&nbsp;</span>Подготовка</a></span></li><li><span><a href=\"#Обучение\" data-toc-modified-id=\"Обучение-2\"><span class=\"toc-item-num\">2&nbsp;&nbsp;</span>Обучение</a></span></li><li><span><a href=\"#Выводы\" data-toc-modified-id=\"Выводы-3\"><span class=\"toc-item-num\">3&nbsp;&nbsp;</span>Выводы</a></span></li><li><span><a href=\"#Чек-лист-проверки\" data-toc-modified-id=\"Чек-лист-проверки-4\"><span class=\"toc-item-num\">4&nbsp;&nbsp;</span>Чек-лист проверки</a></span></li></ul></div>"
   ]
  },
  {
   "cell_type": "markdown",
   "id": "462d3cda",
   "metadata": {},
   "source": [
    "# Проект для «Викишоп» с BERT"
   ]
  },
  {
   "cell_type": "markdown",
   "id": "54dff559",
   "metadata": {},
   "source": [
    "Интернет-магазин «Викишоп» запускает новый сервис. Теперь пользователи могут редактировать и дополнять описания товаров, как в вики-сообществах. То есть клиенты предлагают свои правки и комментируют изменения других. Магазину нужен инструмент, который будет искать токсичные комментарии и отправлять их на модерацию. \n",
    "\n",
    "Обучите модель классифицировать комментарии на позитивные и негативные. В вашем распоряжении набор данных с разметкой о токсичности правок.\n",
    "\n",
    "Постройте модель со значением метрики качества *F1* не меньше 0.75. \n",
    "\n",
    "**Инструкция по выполнению проекта**\n",
    "\n",
    "1. Загрузите и подготовьте данные.\n",
    "2. Обучите разные модели. \n",
    "3. Сделайте выводы.\n",
    "\n",
    "Для выполнения проекта применять *BERT* необязательно, но вы можете попробовать.\n",
    "\n",
    "**Описание данных**\n",
    "\n",
    "Данные находятся в файле `toxic_comments.csv`. Столбец *text* в нём содержит текст комментария, а *toxic* — целевой признак."
   ]
  },
  {
   "cell_type": "markdown",
   "id": "21fa7044",
   "metadata": {},
   "source": [
    "## Подготовка"
   ]
  },
  {
   "cell_type": "code",
   "execution_count": 1,
   "id": "a0296694",
   "metadata": {},
   "outputs": [],
   "source": [
    "import numpy as np\n",
    "import pandas as pd\n",
    "import torch\n",
    "import transformers\n",
    "from tqdm import notebook\n",
    "from sklearn.model_selection import cross_val_score\n",
    "from sklearn.model_selection import train_test_split\n",
    "from sklearn.linear_model import LogisticRegression\n",
    "from sklearn.metrics import f1_score, precision_recall_fscore_support, confusion_matrix\n",
    "\n",
    "import matplotlib.pyplot as plt\n",
    "import seaborn as sns"
   ]
  },
  {
   "cell_type": "markdown",
   "id": "d107e72c",
   "metadata": {},
   "source": [
    "### Загрузка датасета"
   ]
  },
  {
   "cell_type": "code",
   "execution_count": 2,
   "id": "8b32ba83",
   "metadata": {},
   "outputs": [
    {
     "data": {
      "text/plain": [
       "(159292, 2)"
      ]
     },
     "metadata": {},
     "output_type": "display_data"
    },
    {
     "data": {
      "text/html": [
       "<div>\n",
       "<style scoped>\n",
       "    .dataframe tbody tr th:only-of-type {\n",
       "        vertical-align: middle;\n",
       "    }\n",
       "\n",
       "    .dataframe tbody tr th {\n",
       "        vertical-align: top;\n",
       "    }\n",
       "\n",
       "    .dataframe thead th {\n",
       "        text-align: right;\n",
       "    }\n",
       "</style>\n",
       "<table border=\"1\" class=\"dataframe\">\n",
       "  <thead>\n",
       "    <tr style=\"text-align: right;\">\n",
       "      <th></th>\n",
       "      <th>text</th>\n",
       "      <th>toxic</th>\n",
       "    </tr>\n",
       "  </thead>\n",
       "  <tbody>\n",
       "    <tr>\n",
       "      <th>0</th>\n",
       "      <td>Explanation\\nWhy the edits made under my usern...</td>\n",
       "      <td>0</td>\n",
       "    </tr>\n",
       "    <tr>\n",
       "      <th>1</th>\n",
       "      <td>D'aww! He matches this background colour I'm s...</td>\n",
       "      <td>0</td>\n",
       "    </tr>\n",
       "    <tr>\n",
       "      <th>2</th>\n",
       "      <td>Hey man, I'm really not trying to edit war. It...</td>\n",
       "      <td>0</td>\n",
       "    </tr>\n",
       "    <tr>\n",
       "      <th>3</th>\n",
       "      <td>\"\\nMore\\nI can't make any real suggestions on ...</td>\n",
       "      <td>0</td>\n",
       "    </tr>\n",
       "    <tr>\n",
       "      <th>4</th>\n",
       "      <td>You, sir, are my hero. Any chance you remember...</td>\n",
       "      <td>0</td>\n",
       "    </tr>\n",
       "  </tbody>\n",
       "</table>\n",
       "</div>"
      ],
      "text/plain": [
       "                                                text  toxic\n",
       "0  Explanation\\nWhy the edits made under my usern...      0\n",
       "1  D'aww! He matches this background colour I'm s...      0\n",
       "2  Hey man, I'm really not trying to edit war. It...      0\n",
       "3  \"\\nMore\\nI can't make any real suggestions on ...      0\n",
       "4  You, sir, are my hero. Any chance you remember...      0"
      ]
     },
     "metadata": {},
     "output_type": "display_data"
    }
   ],
   "source": [
    "data = pd.read_csv('https://code.s3.yandex.net/datasets/toxic_comments.csv', index_col=0)\n",
    "display(data.shape)\n",
    "display(data.head())"
   ]
  },
  {
   "cell_type": "markdown",
   "id": "f47f9ee4",
   "metadata": {},
   "source": [
    "В исходном датасете 159292 записей. Возьмем только небольшую часть, иначе может не хватить ресурсов:"
   ]
  },
  {
   "cell_type": "code",
   "execution_count": 3,
   "id": "45d972b8",
   "metadata": {},
   "outputs": [],
   "source": [
    "RND_SEED = 42\n",
    "TRAIN_SIZE = 5000 # большой набор может уронить тетрадку и студию даже на локальной машине "
   ]
  },
  {
   "cell_type": "code",
   "execution_count": 4,
   "id": "bb8cd424",
   "metadata": {},
   "outputs": [],
   "source": [
    "data = train_test_split(data, train_size=TRAIN_SIZE, random_state=RND_SEED)[0]"
   ]
  },
  {
   "cell_type": "markdown",
   "id": "945a9194",
   "metadata": {},
   "source": [
    "### Загрузка модели\n",
    "Используем готовую модель *unitary/toxic-bert* "
   ]
  },
  {
   "cell_type": "code",
   "execution_count": 5,
   "id": "6245b42f",
   "metadata": {},
   "outputs": [],
   "source": [
    "tokenizer = transformers.AutoTokenizer.from_pretrained(\"unitary/toxic-bert\")\n",
    "model = transformers.AutoModel.from_pretrained(\"unitary/toxic-bert\")"
   ]
  },
  {
   "cell_type": "markdown",
   "id": "f5e29e5b",
   "metadata": {},
   "source": [
    "### Стемминг\n",
    "Чтобы сэкономить время и ресурсы еще ограничим длину вектора 80-м процентилем длин полученных векторов."
   ]
  },
  {
   "cell_type": "code",
   "execution_count": 6,
   "id": "169602e9",
   "metadata": {},
   "outputs": [
    {
     "name": "stdout",
     "output_type": "stream",
     "text": [
      "80-percentile max_len: 128\n"
     ]
    },
    {
     "data": {
      "text/plain": [
       "(5000, 128)"
      ]
     },
     "execution_count": 6,
     "metadata": {},
     "output_type": "execute_result"
    },
    {
     "data": {
      "image/png": "[encoded data removed]",
      "text/plain": [
       "<Figure size 1200x400 with 2 Axes>"
      ]
     },
     "metadata": {},
     "output_type": "display_data"
    }
   ],
   "source": [
    "def tokenize(data):\n",
    "\ttokenized = data['text'].apply(lambda x: tokenizer.encode(x, add_special_tokens=True, truncation=True, max_length=512))\n",
    "\n",
    "\tlen_list = []\n",
    "\tfor i in tokenized.values:\n",
    "\t\tlen_list.append(len(i))\n",
    "\n",
    "\tmax_len = int(np.percentile(len_list, q=80))\n",
    "\tprint(f'80-percentile max_len: {max_len}')\n",
    "\n",
    "\tfig, axes = plt.subplots(2, 1)\n",
    "\tfig.set_size_inches(12, 4)\n",
    "\tsns.histplot(data=len_list, bins=150, ax=axes[0]);\n",
    "\tsns.boxplot(data=len_list, whis=[20, 80], ax=axes[1], orient='h');\n",
    "\taxes[0].set_title('Распределение исходных длин векторов с токенами')\n",
    "\taxes[0].sharex(axes[1])\n",
    "\n",
    "\tpadded = np.array([i[:max_len] + [0] * max(0, (max_len - len(i))) for i in tokenized.values])\n",
    "\tattention_mask = np.where(padded != 0, 1, 0)\n",
    "\n",
    "\treturn padded, attention_mask\n",
    "\n",
    "padded, attention_mask = tokenize(data)\n",
    "padded.shape"
   ]
  },
  {
   "cell_type": "markdown",
   "id": "42327f22",
   "metadata": {},
   "source": [
    "- Идея такого ограничения по max_len в том, что, как видно на графиках, основная часть текстов в данном корпусе выдают кол-во лемм заметно меньше максимального кол-ва, поддерживаемого моделью (512), поэтому, если мы будем формировать матрицу на 512 лемм, в ней будет много бесполезных нулей, что неразумно, т.к. обработка лемм BERT-ом - процесс ресурсоемкий.\n",
    "\n",
    "Можно еще так получить токены, но возвращаемый BatchEncoding еще надо преобразовать в 2d ndarray, плюс большие набор данных и max_length роняют тетрадку и студию:\n",
    "\n",
    "padded = tokenizer(data['text'].to_list(), padding=True, truncation=True, max_length=128)"
   ]
  },
  {
   "cell_type": "markdown",
   "id": "af2e5bd5",
   "metadata": {},
   "source": [
    "## Обучение"
   ]
  },
  {
   "cell_type": "markdown",
   "id": "48262c45",
   "metadata": {},
   "source": [
    "### Embeddings"
   ]
  },
  {
   "cell_type": "code",
   "execution_count": 7,
   "id": "fd82d197",
   "metadata": {},
   "outputs": [
    {
     "data": {
      "application/vnd.jupyter.widget-view+json": {
       "model_id": "7940b154d1f841da837d3ffcc433cfc8",
       "version_major": 2,
       "version_minor": 0
      },
      "text/plain": [
       "  0%|          | 0/50 [00:00<?, ?it/s]"
      ]
     },
     "metadata": {},
     "output_type": "display_data"
    }
   ],
   "source": [
    "batch_size = 100\n",
    "embeddings = []\n",
    "\n",
    "for i in notebook.tqdm(range(padded.shape[0] // batch_size)):\n",
    "\tbatch = torch.LongTensor(padded[batch_size * i : batch_size * (i + 1)])\n",
    "\tattention_mask_batch = torch.LongTensor(attention_mask[batch_size * i : batch_size * (i + 1)])\n",
    "\twith torch.no_grad():\n",
    "\t\tbatch_embeddings = model(batch, attention_mask=attention_mask_batch)\n",
    "\tembeddings.append(batch_embeddings[0][:, 0, :].numpy())"
   ]
  },
  {
   "cell_type": "markdown",
   "id": "b16668e0",
   "metadata": {},
   "source": [
    "### Регрессия"
   ]
  },
  {
   "cell_type": "code",
   "execution_count": 8,
   "id": "9ce70ccf",
   "metadata": {},
   "outputs": [
    {
     "name": "stdout",
     "output_type": "stream",
     "text": [
      "F1 на кроссвалидации: [0.91156463 0.91780822 0.88111888 0.90540541 0.90789474]\n"
     ]
    }
   ],
   "source": [
    "features = np.concatenate(embeddings)\n",
    "\n",
    "X_train, X_test, y_train, y_test = train_test_split(\n",
    "    features, data['toxic'], test_size=0.2, random_state=RND_SEED)\n",
    "estimator = LogisticRegression(random_state=RND_SEED).fit(X_train, y_train)\n",
    "scores = cross_val_score(estimator, X_train, y_train, scoring='f1')\n",
    "print(f'F1 на кроссвалидации: {scores}')"
   ]
  },
  {
   "cell_type": "markdown",
   "id": "10e5c9de",
   "metadata": {},
   "source": [
    "### F1 на тестовой выборке"
   ]
  },
  {
   "cell_type": "code",
   "execution_count": 9,
   "id": "8456ad8a",
   "metadata": {},
   "outputs": [
    {
     "name": "stdout",
     "output_type": "stream",
     "text": [
      "F1 on test set: 0.95\n"
     ]
    },
    {
     "data": {
      "image/png": "[encoded data removed]",
      "text/plain": [
       "<Figure size 300x200 with 2 Axes>"
      ]
     },
     "metadata": {},
     "output_type": "display_data"
    }
   ],
   "source": [
    "y_pred = estimator.predict(X_test)\n",
    "print(f'F1 on test set: {f1_score(y_test, y_pred):.02f}')\n",
    "precision_recall_fscore_support(y_test, y_pred)\n",
    "plt.figure(figsize=(3, 2))\n",
    "sns.heatmap(confusion_matrix(y_test, y_pred), annot=True, fmt='d', cmap='Blues_r');"
   ]
  },
  {
   "cell_type": "markdown",
   "id": "6ae2b9b7",
   "metadata": {},
   "source": [
    "## Выводы"
   ]
  },
  {
   "cell_type": "markdown",
   "id": "ee73ba20",
   "metadata": {},
   "source": [
    "- Получили датасет toxic_comments\n",
    "- Чтобы хватило ресурсов, взяли небольшую случайную часть сета в работу (5000 текстов)\n",
    "- Использовали готовую модель unitary/toxic-bert\n",
    "- Длину векторов лемм ограничили 80%-ным процентилем длин (~128 лемм)\n",
    "- Обучили модель логистической регрессии, получили метрику F1 на тестовой выборке, удовлетворяющую условию задачи."
   ]
  },
  {
   "cell_type": "markdown",
   "id": "b4d4d545",
   "metadata": {},
   "source": [
    "## Чек-лист проверки"
   ]
  },
  {
   "cell_type": "markdown",
   "id": "eefb389f",
   "metadata": {},
   "source": [
    "- [x]  Jupyter Notebook открыт\n",
    "- [x]  Весь код выполняется без ошибок\n",
    "- [x]  Ячейки с кодом расположены в порядке исполнения\n",
    "- [x]  Данные загружены и подготовлены\n",
    "- [x]  Модели обучены\n",
    "- [x]  Значение метрики *F1* не меньше 0.75\n",
    "- [x]  Выводы написаны"
   ]
  }
 ],
 "metadata": {
  "kernelspec": {
   "display_name": ".venv",
   "language": "python",
   "name": "python3"
  },
  "language_info": {
   "codemirror_mode": {
    "name": "ipython",
    "version": 3
   },
   "file_extension": ".py",
   "mimetype": "text/x-python",
   "name": "python",
   "nbconvert_exporter": "python",
   "pygments_lexer": "ipython3",
   "version": "3.12.3"
  }
 },
 "nbformat": 4,
 "nbformat_minor": 5
}
