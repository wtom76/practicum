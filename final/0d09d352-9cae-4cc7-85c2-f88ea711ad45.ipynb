{
 "cells": [
  {
   "cell_type": "markdown",
   "id": "d9317ac8",
   "metadata": {},
   "source": [
    "# Моделирование температуры сплава в тигель ковше\n",
    "Выпускной проект"
   ]
  },
  {
   "cell_type": "markdown",
   "id": "7c91b87d",
   "metadata": {},
   "source": [
    "## Описание\n",
    "Чтобы оптимизировать производственные расходы, металлургический комбинат «Стальная птица» решил уменьшить потребление электроэнергии на этапе обработки стали. Для этого комбинату нужно контролировать температуру сплава. Наша задача — построить модель, которая будет её предсказывать. "
   ]
  },
  {
   "cell_type": "markdown",
   "id": "7214f363",
   "metadata": {},
   "source": [
    "## План работы"
   ]
  },
  {
   "cell_type": "code",
   "execution_count": 21,
   "id": "46a38435",
   "metadata": {},
   "outputs": [],
   "source": [
    "import pandas as pd"
   ]
  },
  {
   "cell_type": "markdown",
   "id": "c85dabce",
   "metadata": {},
   "source": [
    "## Загрузка данных"
   ]
  },
  {
   "cell_type": "code",
   "execution_count": 35,
   "id": "8363b224",
   "metadata": {},
   "outputs": [],
   "source": [
    "def load_dataset(name, parse_dates=None, sep=',', decimal='.'):\n",
    "    df = pd.DataFrame()\n",
    "    try:\n",
    "        df = pd.read_csv(f'/datasets/{name}.csv', sep=sep, decimal=decimal, index_col='key', parse_dates=parse_dates)\n",
    "    except:\n",
    "        df = pd.read_csv(f'https://code.s3.yandex.net/datasets/{name}.csv', sep=sep, decimal=decimal, index_col='key', parse_dates=parse_dates)\n",
    "    df.sort_index(inplace=True)\n",
    "    return df"
   ]
  },
  {
   "cell_type": "code",
   "execution_count": 30,
   "id": "59f6e5e1",
   "metadata": {},
   "outputs": [],
   "source": [
    "data_arc_new\t\t= load_dataset('data_arc_new', parse_dates=['Начало нагрева дугой', 'Конец нагрева дугой'])\n",
    "data_bulk_new\t\t= load_dataset('data_bulk_new')\n",
    "data_bulk_time_new\t= load_dataset('data_bulk_time_new', parse_dates=list(range(1, data_bulk_new.shape[1] + 1)))\n",
    "data_gas_new\t\t= load_dataset('data_gas_new')\n",
    "data_temp_new\t\t= load_dataset('data_temp_new', parse_dates=[1])\n",
    "data_wire_new\t\t= load_dataset('data_wire_new')\n",
    "data_wire_time_new\t= load_dataset('data_wire_time_new', parse_dates=list(range(1, data_wire_new.shape[1] + 1)))"
   ]
  },
  {
   "cell_type": "markdown",
   "id": "188b28c3",
   "metadata": {},
   "source": [
    "## Осмотр данных"
   ]
  },
  {
   "cell_type": "code",
   "execution_count": 38,
   "id": "3d066ea5",
   "metadata": {},
   "outputs": [],
   "source": [
    "def explore_df(df):\n",
    "    print('-' * 100)\n",
    "    print('sample:')\n",
    "    display(df.sample(5))\n",
    "    print('-' * 100)\n",
    "    print('\\ninfo:\\n')\n",
    "    df.info()\n",
    "    print('-' * 100)\n",
    "    print('\\ndescribe:\\n')\n",
    "    display(df.describe())\n",
    "    print('-' * 100)\n",
    "    print('\\nlacunes:\\n')\n",
    "    print(df.isna().sum())\n",
    "    print('-' * 100)\n",
    "    print('\\nfull duplicates:\\n')\n",
    "    print(df.duplicated().sum())\n",
    "    print('\\nunique keys:\\n')\n",
    "    print(df.index.unique().size)\t"
   ]
  },
  {
   "cell_type": "markdown",
   "id": "9dc77de8",
   "metadata": {},
   "source": [
    "### data_arc_new"
   ]
  },
  {
   "cell_type": "code",
   "execution_count": 39,
   "id": "6f0f2e7a",
   "metadata": {},
   "outputs": [
    {
     "name": "stdout",
     "output_type": "stream",
     "text": [
      "----------------------------------------------------------------------------------------------------\n",
      "sample:\n"
     ]
    },
    {
     "data": {
      "text/html": [
       "<div>\n",
       "<style scoped>\n",
       "    .dataframe tbody tr th:only-of-type {\n",
       "        vertical-align: middle;\n",
       "    }\n",
       "\n",
       "    .dataframe tbody tr th {\n",
       "        vertical-align: top;\n",
       "    }\n",
       "\n",
       "    .dataframe thead th {\n",
       "        text-align: right;\n",
       "    }\n",
       "</style>\n",
       "<table border=\"1\" class=\"dataframe\">\n",
       "  <thead>\n",
       "    <tr style=\"text-align: right;\">\n",
       "      <th></th>\n",
       "      <th>Начало нагрева дугой</th>\n",
       "      <th>Конец нагрева дугой</th>\n",
       "      <th>Активная мощность</th>\n",
       "      <th>Реактивная мощность</th>\n",
       "    </tr>\n",
       "    <tr>\n",
       "      <th>key</th>\n",
       "      <th></th>\n",
       "      <th></th>\n",
       "      <th></th>\n",
       "      <th></th>\n",
       "    </tr>\n",
       "  </thead>\n",
       "  <tbody>\n",
       "    <tr>\n",
       "      <th>55</th>\n",
       "      <td>2019-05-05 14:51:19</td>\n",
       "      <td>2019-05-05 14:57:03</td>\n",
       "      <td>0.838982</td>\n",
       "      <td>0.567044</td>\n",
       "    </tr>\n",
       "    <tr>\n",
       "      <th>2524</th>\n",
       "      <td>2019-08-11 08:44:02</td>\n",
       "      <td>2019-08-11 08:46:45</td>\n",
       "      <td>0.531088</td>\n",
       "      <td>0.335925</td>\n",
       "    </tr>\n",
       "    <tr>\n",
       "      <th>2269</th>\n",
       "      <td>2019-08-02 02:28:54</td>\n",
       "      <td>2019-08-02 02:30:32</td>\n",
       "      <td>0.265746</td>\n",
       "      <td>0.176570</td>\n",
       "    </tr>\n",
       "    <tr>\n",
       "      <th>2676</th>\n",
       "      <td>2019-08-17 05:29:24</td>\n",
       "      <td>2019-08-17 05:32:46</td>\n",
       "      <td>0.605881</td>\n",
       "      <td>0.462060</td>\n",
       "    </tr>\n",
       "    <tr>\n",
       "      <th>987</th>\n",
       "      <td>2019-06-10 15:00:56</td>\n",
       "      <td>2019-06-10 15:02:18</td>\n",
       "      <td>0.418179</td>\n",
       "      <td>0.273479</td>\n",
       "    </tr>\n",
       "  </tbody>\n",
       "</table>\n",
       "</div>"
      ],
      "text/plain": [
       "     Начало нагрева дугой Конец нагрева дугой  Активная мощность  \\\n",
       "key                                                                \n",
       "55    2019-05-05 14:51:19 2019-05-05 14:57:03           0.838982   \n",
       "2524  2019-08-11 08:44:02 2019-08-11 08:46:45           0.531088   \n",
       "2269  2019-08-02 02:28:54 2019-08-02 02:30:32           0.265746   \n",
       "2676  2019-08-17 05:29:24 2019-08-17 05:32:46           0.605881   \n",
       "987   2019-06-10 15:00:56 2019-06-10 15:02:18           0.418179   \n",
       "\n",
       "      Реактивная мощность  \n",
       "key                        \n",
       "55               0.567044  \n",
       "2524             0.335925  \n",
       "2269             0.176570  \n",
       "2676             0.462060  \n",
       "987              0.273479  "
      ]
     },
     "metadata": {},
     "output_type": "display_data"
    },
    {
     "name": "stdout",
     "output_type": "stream",
     "text": [
      "----------------------------------------------------------------------------------------------------\n",
      "\n",
      "info:\n",
      "\n",
      "<class 'pandas.core.frame.DataFrame'>\n",
      "Index: 14876 entries, 1 to 3241\n",
      "Data columns (total 4 columns):\n",
      " #   Column                Non-Null Count  Dtype         \n",
      "---  ------                --------------  -----         \n",
      " 0   Начало нагрева дугой  14876 non-null  datetime64[ns]\n",
      " 1   Конец нагрева дугой   14876 non-null  datetime64[ns]\n",
      " 2   Активная мощность     14876 non-null  float64       \n",
      " 3   Реактивная мощность   14876 non-null  float64       \n",
      "dtypes: datetime64[ns](2), float64(2)\n",
      "memory usage: 1.1 MB\n",
      "----------------------------------------------------------------------------------------------------\n",
      "\n",
      "describe:\n",
      "\n"
     ]
    },
    {
     "data": {
      "text/html": [
       "<div>\n",
       "<style scoped>\n",
       "    .dataframe tbody tr th:only-of-type {\n",
       "        vertical-align: middle;\n",
       "    }\n",
       "\n",
       "    .dataframe tbody tr th {\n",
       "        vertical-align: top;\n",
       "    }\n",
       "\n",
       "    .dataframe thead th {\n",
       "        text-align: right;\n",
       "    }\n",
       "</style>\n",
       "<table border=\"1\" class=\"dataframe\">\n",
       "  <thead>\n",
       "    <tr style=\"text-align: right;\">\n",
       "      <th></th>\n",
       "      <th>Начало нагрева дугой</th>\n",
       "      <th>Конец нагрева дугой</th>\n",
       "      <th>Активная мощность</th>\n",
       "      <th>Реактивная мощность</th>\n",
       "    </tr>\n",
       "  </thead>\n",
       "  <tbody>\n",
       "    <tr>\n",
       "      <th>count</th>\n",
       "      <td>14876</td>\n",
       "      <td>14876</td>\n",
       "      <td>14876.000000</td>\n",
       "      <td>14876.000000</td>\n",
       "    </tr>\n",
       "    <tr>\n",
       "      <th>mean</th>\n",
       "      <td>2019-07-05 12:25:51.921081088</td>\n",
       "      <td>2019-07-05 12:28:43.592027392</td>\n",
       "      <td>0.662752</td>\n",
       "      <td>0.438986</td>\n",
       "    </tr>\n",
       "    <tr>\n",
       "      <th>min</th>\n",
       "      <td>2019-05-03 11:02:14</td>\n",
       "      <td>2019-05-03 11:06:02</td>\n",
       "      <td>0.223120</td>\n",
       "      <td>-715.479924</td>\n",
       "    </tr>\n",
       "    <tr>\n",
       "      <th>25%</th>\n",
       "      <td>2019-06-03 23:18:23.249999872</td>\n",
       "      <td>2019-06-03 23:21:35</td>\n",
       "      <td>0.467115</td>\n",
       "      <td>0.337175</td>\n",
       "    </tr>\n",
       "    <tr>\n",
       "      <th>50%</th>\n",
       "      <td>2019-07-03 01:31:26.500000</td>\n",
       "      <td>2019-07-03 01:35:13</td>\n",
       "      <td>0.599587</td>\n",
       "      <td>0.441639</td>\n",
       "    </tr>\n",
       "    <tr>\n",
       "      <th>75%</th>\n",
       "      <td>2019-08-07 22:52:20.750000128</td>\n",
       "      <td>2019-08-07 22:56:47</td>\n",
       "      <td>0.830070</td>\n",
       "      <td>0.608201</td>\n",
       "    </tr>\n",
       "    <tr>\n",
       "      <th>max</th>\n",
       "      <td>2019-09-06 17:24:54</td>\n",
       "      <td>2019-09-06 17:26:15</td>\n",
       "      <td>1.463773</td>\n",
       "      <td>1.270284</td>\n",
       "    </tr>\n",
       "    <tr>\n",
       "      <th>std</th>\n",
       "      <td>NaN</td>\n",
       "      <td>NaN</td>\n",
       "      <td>0.258885</td>\n",
       "      <td>5.873485</td>\n",
       "    </tr>\n",
       "  </tbody>\n",
       "</table>\n",
       "</div>"
      ],
      "text/plain": [
       "                Начало нагрева дугой            Конец нагрева дугой  \\\n",
       "count                          14876                          14876   \n",
       "mean   2019-07-05 12:25:51.921081088  2019-07-05 12:28:43.592027392   \n",
       "min              2019-05-03 11:02:14            2019-05-03 11:06:02   \n",
       "25%    2019-06-03 23:18:23.249999872            2019-06-03 23:21:35   \n",
       "50%       2019-07-03 01:31:26.500000            2019-07-03 01:35:13   \n",
       "75%    2019-08-07 22:52:20.750000128            2019-08-07 22:56:47   \n",
       "max              2019-09-06 17:24:54            2019-09-06 17:26:15   \n",
       "std                              NaN                            NaN   \n",
       "\n",
       "       Активная мощность  Реактивная мощность  \n",
       "count       14876.000000         14876.000000  \n",
       "mean            0.662752             0.438986  \n",
       "min             0.223120          -715.479924  \n",
       "25%             0.467115             0.337175  \n",
       "50%             0.599587             0.441639  \n",
       "75%             0.830070             0.608201  \n",
       "max             1.463773             1.270284  \n",
       "std             0.258885             5.873485  "
      ]
     },
     "metadata": {},
     "output_type": "display_data"
    },
    {
     "name": "stdout",
     "output_type": "stream",
     "text": [
      "----------------------------------------------------------------------------------------------------\n",
      "\n",
      "lacunes:\n",
      "\n",
      "Начало нагрева дугой    0\n",
      "Конец нагрева дугой     0\n",
      "Активная мощность       0\n",
      "Реактивная мощность     0\n",
      "dtype: int64\n",
      "----------------------------------------------------------------------------------------------------\n",
      "\n",
      "full duplicates:\n",
      "\n",
      "0\n",
      "\n",
      "unique keys:\n",
      "\n",
      "3214\n"
     ]
    }
   ],
   "source": [
    "explore_df(data_arc_new)"
   ]
  }
 ],
 "metadata": {
  "kernelspec": {
   "display_name": ".venv",
   "language": "python",
   "name": "python3"
  },
  "language_info": {
   "codemirror_mode": {
    "name": "ipython",
    "version": 3
   },
   "file_extension": ".py",
   "mimetype": "text/x-python",
   "name": "python",
   "nbconvert_exporter": "python",
   "pygments_lexer": "ipython3",
   "version": "3.12.3"
  }
 },
 "nbformat": 4,
 "nbformat_minor": 5
}
